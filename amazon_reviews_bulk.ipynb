{
  "nbformat": 4,
  "nbformat_minor": 0,
  "metadata": {
    "colab": {
      "name": "amazon_reviews_bulk.ipynb",
      "provenance": [],
      "collapsed_sections": []
    },
    "kernelspec": {
      "name": "python3",
      "display_name": "Python 3"
    },
    "language_info": {
      "name": "python"
    }
  },
  "cells": [
    {
      "cell_type": "code",
      "metadata": {
        "colab": {
          "base_uri": "https://localhost:8080/"
        },
        "id": "pPrAUt8bNb6t",
        "outputId": "565e3bf5-240d-4d9b-cfd7-bbb1f47c5cb8"
      },
      "source": [
        "import numpy as np # linear algebra\n",
        "import pandas as pd # data processing, CSV file I/O (e.g. pd.read_csv)\n",
        "import bz2 # To open zipped files\n",
        "import re # regular expressions\n",
        "import os\n",
        "import gc       #for data extraction\n",
        "import random\n",
        "from bs4 import BeautifulSoup \n",
        "import matplotlib.pyplot as plt\n",
        "import seaborn as sns\n",
        "import nltk\n",
        "from nltk.stem import WordNetLemmatizer\n",
        "nltk.download(\"wordnet\")\n",
        "lemmatizer = WordNetLemmatizer()\n",
        "nltk.download(\"stopwords\") \n",
        "from nltk.corpus import stopwords\n",
        "from nltk.classify import SklearnClassifier\n",
        "import torch\n",
        "import itertools\n",
        "import codecs\n",
        "from nltk.tokenize import word_tokenize\n",
        "nltk.download('punkt')\n",
        "import string\n",
        "from torchtext.data.utils import get_tokenizer\n",
        "from collections import Counter\n",
        "from torchtext.vocab import Vocab\n",
        "import seaborn as sns\n",
        "from nltk import pos_tag\n",
        "from gensim.utils import simple_preprocess\n",
        "nltk.download('cess_esp')  \n",
        "nltk.download('words')\n",
        "import tensorflow as tf\n",
        "from tensorflow.keras.preprocessing.text import Tokenizer\n",
        "from tensorflow.keras.preprocessing.sequence import pad_sequences"
      ],
      "execution_count": 1,
      "outputs": [
        {
          "output_type": "stream",
          "text": [
            "[nltk_data] Downloading package wordnet to /root/nltk_data...\n",
            "[nltk_data]   Unzipping corpora/wordnet.zip.\n",
            "[nltk_data] Downloading package stopwords to /root/nltk_data...\n",
            "[nltk_data]   Unzipping corpora/stopwords.zip.\n",
            "[nltk_data] Downloading package punkt to /root/nltk_data...\n",
            "[nltk_data]   Unzipping tokenizers/punkt.zip.\n",
            "[nltk_data] Downloading package cess_esp to /root/nltk_data...\n",
            "[nltk_data]   Unzipping corpora/cess_esp.zip.\n",
            "[nltk_data] Downloading package words to /root/nltk_data...\n",
            "[nltk_data]   Unzipping corpora/words.zip.\n"
          ],
          "name": "stdout"
        }
      ]
    },
    {
      "cell_type": "code",
      "metadata": {
        "id": "wIwmsh9ENsV_"
      },
      "source": [
        "for dirname, _, filenames in os.walk('drive\\MyDrive\\dataset'):\n",
        "    for filename in filenames:\n",
        "        print(os.path.join(dirname, filename))\n"
      ],
      "execution_count": 2,
      "outputs": []
    },
    {
      "cell_type": "code",
      "metadata": {
        "colab": {
          "base_uri": "https://localhost:8080/"
        },
        "id": "-CznVCtdN6B4",
        "outputId": "a8bb04ec-a919-4744-aa44-c0e73bbcbe4b"
      },
      "source": [
        "print(os.listdir('/content/drive/MyDrive/dataset'))\n"
      ],
      "execution_count": 3,
      "outputs": [
        {
          "output_type": "stream",
          "text": [
            "['test.ft.txt', 'test.ft.txt.bz2', 'train.ft.txt.bz2', 'train.ft.txt', 'archive.zip', 'Cod_dataset_importat.ipynb', 'in_spyder_copy.py', 'in_spider_torch.py', 'train.txt', 'ccb0553edb6abafd20c3dec34ee8099d-master.zip', 'dataframe_dataset.py', 'json.py', '.ipynb_checkpoints', 'graphs', 'ccb0553edb6abafd20c3dec34ee8099d-master', 'in_spyder.py']\n"
          ],
          "name": "stdout"
        }
      ]
    },
    {
      "cell_type": "code",
      "metadata": {
        "id": "FXBN5lhwOh5T"
      },
      "source": [
        "train_file = bz2.BZ2File('/content/drive/MyDrive/dataset/train.ft.txt.bz2')\n",
        "test_file = bz2.BZ2File('/content/drive/MyDrive/dataset/test.ft.txt.bz2')"
      ],
      "execution_count": 4,
      "outputs": []
    },
    {
      "cell_type": "code",
      "metadata": {
        "id": "ZJaqHfl9OpsQ"
      },
      "source": [
        "train_file_lines = train_file.readlines(100000)\n",
        "test_file_lines = test_file.readlines(100000)\n",
        "num_train = 10000\n",
        "num_test = 10000\n"
      ],
      "execution_count": 5,
      "outputs": []
    },
    {
      "cell_type": "code",
      "metadata": {
        "id": "62XifCM4OvQ_"
      },
      "source": [
        "train_file_lines = [x.decode('utf-8') for x in train_file_lines]\n",
        "test_file_lines = [x.decode('utf-8') for x in test_file_lines]"
      ],
      "execution_count": 6,
      "outputs": []
    },
    {
      "cell_type": "code",
      "metadata": {
        "id": "_ChQx3cHO1vg"
      },
      "source": [
        "def remove_underscores(sentence):\n",
        "    sentence= sentence.replace(\"_\",\" \")\n",
        "    return sentence"
      ],
      "execution_count": 7,
      "outputs": []
    },
    {
      "cell_type": "code",
      "metadata": {
        "id": "4uB2WWwaO-RW"
      },
      "source": [
        "spanish_words =  set(nltk.corpus.cess_esp.words())\n",
        "english_words = set(nltk.corpus.words.words())\n",
        "stopwords_english = stopwords.words('english')\n",
        "stopwords_spanish = stopwords.words('spanish')\n",
        "stopwords = stopwords_english + stopwords_spanish\n",
        "\n",
        "def remove_stop_words(sentence):     #remove stop words and meaningless words\n",
        "    new_sentence=\"\"\n",
        "    for word in sentence.split():\n",
        "        word=word.lower()\n",
        "        if word in english_words or word in spanish_words and word not in stopwords and word.isalpha():\n",
        "            new_sentence=new_sentence+\" \"+word\n",
        "    return new_sentence"
      ],
      "execution_count": 8,
      "outputs": []
    },
    {
      "cell_type": "code",
      "metadata": {
        "id": "-WmxQFIbPCUH"
      },
      "source": [
        "def lemmatize_and_filter(sentence, min_word_length):        #to lemmatize words and loose the ones with length less than equal to 3.\n",
        "    sent = \"\"\n",
        "    for word in sentence.split():\n",
        "        if len(lemmatizer.lemmatize(word))>=min_word_length:\n",
        "            sent= sent+\" \"+lemmatizer.lemmatize(word)\n",
        "    return(sent)"
      ],
      "execution_count": 9,
      "outputs": []
    },
    {
      "cell_type": "code",
      "metadata": {
        "id": "P0y5y3w-PFmp"
      },
      "source": [
        "def split_label_review(dataa):\n",
        "    #takes in list of raw data and returns list of string sentences and the list of their corresponding labels.\n",
        "    labels = [int(re.findall(\"1|2\", str(lines))[0]) for lines in dataa]\n",
        "  \n",
        "    \n",
        "    \n",
        "    reviews = [re.split(\"__label__[1|2]\",str(lines))[1].strip().lower() for lines in dataa]\n",
        "    return(reviews,labels)"
      ],
      "execution_count": 10,
      "outputs": []
    },
    {
      "cell_type": "code",
      "metadata": {
        "id": "I_fynQtuPID5"
      },
      "source": [
        "def preprocessed_data(raw_text):        #takes in list of raw data and returns list of processed string sentences and the list of their corresponding labels.\n",
        "    reviews = [lemmatize_and_filter(remove_stop_words(BeautifulSoup(re.sub(r'[^\\w\\s]|^https?:\\/\\/.*[\\r\\n]*|\\d+', '', remove_underscores(str(lines)).strip().lower()), \"lxml\").text),3) for lines in raw_text]  \n",
        "        \n",
        "    return(reviews)"
      ],
      "execution_count": 11,
      "outputs": []
    },
    {
      "cell_type": "code",
      "metadata": {
        "id": "EFbdw7HTPOMG"
      },
      "source": [
        "def convert_labels(negative_labels, positive_labels):\n",
        "    negative_labels = [0 if x == '1' else 1 for x in negative_labels]\n",
        "    positive_labels = [1 if x == '2' else 0 for x in negative_labels]\n",
        "    final_labels = negative_labels + positive_labels\n",
        "    return final_labels"
      ],
      "execution_count": 12,
      "outputs": []
    },
    {
      "cell_type": "code",
      "metadata": {
        "id": "UYG-Gnk5PPoO"
      },
      "source": [
        "def split_train_into_train_validate(split_):    #Takes in list of (raw or processed string) data and splits in train validation and returns in same format\n",
        "    \n",
        "    validation_ratio = abs(float(input(\"Enter the validation ratio between 0 to 1:\\n\")))\n",
        "    if validation_ratio>1:\n",
        "        validation_ratio = validation_ratio/100\n",
        "\n",
        "    split = split_\n",
        "    \n",
        "    train_size = int(len(split)*(1-validation_ratio))\n",
        "    \n",
        "    random.shuffle(split)\n",
        "\n",
        "    validate_samples= split[train_size:]\n",
        "\n",
        "    split = split[:train_size]\n",
        "    \n",
        "    return(split,validate_samples)\n"
      ],
      "execution_count": 13,
      "outputs": []
    },
    {
      "cell_type": "code",
      "metadata": {
        "id": "cBNHxEYkPTuw"
      },
      "source": [
        "def split_into_negative_positive(dataa):\n",
        "    negative_reviews=[]      # list of all negative reviews\n",
        "    positive_reviews=[]      # list of all positive reviews\n",
        "\n",
        "    for lines in train_file_lines:\n",
        "        lines= str(lines).lower()\n",
        "        x=re.findall(\"1|2\", lines)[0]\n",
        "        if x==\"1\":\n",
        "            negative_reviews.append(lines)\n",
        "        elif x==\"2\":\n",
        "            positive_reviews.append(lines)\n",
        "    return(negative_reviews, positive_reviews)"
      ],
      "execution_count": 14,
      "outputs": []
    },
    {
      "cell_type": "code",
      "metadata": {
        "colab": {
          "base_uri": "https://localhost:8080/"
        },
        "id": "DAzYdyvmPXba",
        "outputId": "760a6ef5-585f-468d-af68-8e4cf23270f9"
      },
      "source": [
        "train_file_lines,validation_file_lines = split_train_into_train_validate(train_file_lines)\n",
        "negative_reviews, positive_reviews = split_into_negative_positive(train_file_lines)\n",
        "negative_reviews,negative_labels = split_label_review(negative_reviews)\n",
        "positive_reviews,positive_labels = split_label_review(positive_reviews)\n",
        "negative_reviews = preprocessed_data(negative_reviews)\n",
        "positive_reviews=preprocessed_data(positive_reviews)\n",
        "#training_sentences, training_labels = split_label_review(train_file_lines)\n",
        "final_labels = np.append(np.ones((len(positive_labels))), np.zeros((len(negative_labels))))\n",
        "final_reviews = positive_reviews + negative_reviews"
      ],
      "execution_count": 15,
      "outputs": [
        {
          "output_type": "stream",
          "text": [
            "Enter the validation ratio between 0 to 1:\n",
            "0.2\n"
          ],
          "name": "stdout"
        }
      ]
    },
    {
      "cell_type": "code",
      "metadata": {
        "colab": {
          "base_uri": "https://localhost:8080/"
        },
        "id": "Qc3Oov2qPomt",
        "outputId": "69e5ab74-c44f-4ec6-e004-2236ba4ed7f7"
      },
      "source": [
        "print(final_labels[50])\n",
        "print(final_reviews[50])"
      ],
      "execution_count": 16,
      "outputs": [
        {
          "output_type": "stream",
          "text": [
            "1.0\n",
            " contemporary sure delight while this book the classic snow white for grown with some class act and rich and rewarding love story thoroughly reading and look forward more work\n"
          ],
          "name": "stdout"
        }
      ]
    },
    {
      "cell_type": "code",
      "metadata": {
        "colab": {
          "base_uri": "https://localhost:8080/"
        },
        "id": "gwUeLP3MPsJI",
        "outputId": "23a2482d-1881-4dcb-ecd8-aae6705ee392"
      },
      "source": [
        "def build_sentence_final_label(raw_data):\n",
        "    \n",
        "    refined_labels = [0 if x.split(' ')[0] == '__label__1' else 1 for x in raw_data]\n",
        "    refined_labels = [1 if x.split(' ')[0] == '__label__2' else 0 for x in raw_data]\n",
        "    refined_sentences = [x.split(' ', 1)[1][:-1].lower() for x in raw_data]\n",
        "    \n",
        "    labels_list = np.squeeze(refined_labels).tolist()\n",
        "    freqs = []\n",
        "    for sentence,labels in zip(refined_sentences,labels_list):\n",
        "        \n",
        "            pair = (sentence,labels)\n",
        "            freqs += pair\n",
        "    return freqs\n",
        "\n",
        "print(build_sentence_final_label(train_file_lines[0:5]))"
      ],
      "execution_count": 27,
      "outputs": [
        {
          "output_type": "stream",
          "text": [
            "[\"my henry: i had henry back in the 70's. i don't remember him with a nose since it was chewed off, but he was well loved. he's long gone and i thought i was the only one who ever had a henry since nobody knew what i was talking about. i can't believe i've found him again!! nobody can replace my original worn henry, but i'm so excited to have his clone back!!\", 1, 'a very good how-to manual.: if you are expecting a book full of glossy sharp pictures, this is not the one to buy.a lot of drawings and bw pictures that inform what they need to. this is a very good manual for those who want to venture in a timber frame project.', 1, \"nice for the money: the first one i bought was defective. the dvd didn't work at all. i purchased it from electronics express and when i contacted them they were wonderful. they gave me an rma number right away, fedex picked it up the next day and a new one arrived 1 week later. this one is just fine. i really love the clarity of the picture. my only complaint is that in dvd mode, the sound isn't loud enough. i have it in my rv and with the a/c running, i can barely hear it. i solved the problem by running an audio out jack from the tv to the input on the rv stereo speaker system. it's very lightweight and easy to move around and store. a bonus for the rv. the remote isn't great, but it works just fine and the video/audio jacks and antenna input are easy to get to as is the dvd player. all in all, it's a great deal for the price.\", 1, 'wonderful but not worth $80.: these are great blocks but they are definitely not worth the listed $79.99. they can be purchsed for about $20 many other places.', 1, \"jobst ultrasheer thigh high: excellent product. however, they are very difficult to get on for older people. i feel like i've had a full day workout after getting them on. also, as the day wears on, they begin to roll down from the top and create a very deep ridge in the skin. i have to wear them, so if those two difficulties could be addressed it would be such a help.\", 1]\n"
          ],
          "name": "stdout"
        }
      ]
    },
    {
      "cell_type": "code",
      "metadata": {
        "id": "5Mcs8zq7P4nY"
      },
      "source": [
        "negative_reviews_test,positive_reviews_test = split_into_negative_positive(test_file_lines)\n",
        "negative_reviews_test,negative_labels_test = split_label_review(negative_reviews_test)\n",
        "positive_reviews_test,positive_labels_test = split_label_review(positive_reviews_test)\n",
        "negative_reviews_test = preprocessed_data(negative_reviews_test)\n",
        "positive_reviews_test =preprocessed_data(positive_reviews_test)\n",
        "final_labels_test = np.append(np.ones((len(positive_labels_test))), np.zeros((len(negative_labels_test))))\n",
        "final_reviews_test = positive_reviews_test + negative_reviews_test"
      ],
      "execution_count": 18,
      "outputs": []
    },
    {
      "cell_type": "code",
      "metadata": {
        "id": "cBdvQzQiSnif"
      },
      "source": [
        "def custom_tokenize(text):\n",
        "    if not text:\n",
        "        print('The text to be tokenized is a None type. Defaulting to blank string.')\n",
        "        text = ''\n",
        "    return word_tokenize(text)\n",
        "\n",
        "\n"
      ],
      "execution_count": 19,
      "outputs": []
    },
    {
      "cell_type": "code",
      "metadata": {
        "colab": {
          "base_uri": "https://localhost:8080/"
        },
        "id": "kmECYQBRQPhf",
        "outputId": "08359b68-abfa-4307-bdaa-50621e8a41ce"
      },
      "source": [
        "def build_freqs(refined_reviews, refined_labels):\n",
        "    labels_list = np.squeeze(refined_labels).tolist()\n",
        "    freqs = {}\n",
        "    for sentence,labels in zip(refined_reviews,labels_list):\n",
        "        for word in sentence.split():\n",
        "            pair = (word,labels)\n",
        "            if pair in freqs:\n",
        "                freqs[pair] += 1\n",
        "            else:\n",
        "                freqs[pair] = 1    \n",
        "    return freqs\n",
        "\n",
        "\n",
        "freqs = build_freqs(final_reviews, final_labels)\n",
        "print(freqs)"
      ],
      "execution_count": 29,
      "outputs": [
        {
          "output_type": "stream",
          "text": [
            "{('henry', 1.0): 13, ('had', 1.0): 18, ('back', 1.0): 5, ('the', 1.0): 348, ('dont', 1.0): 11, ('remember', 1.0): 2, ('him', 1.0): 12, ('with', 1.0): 45, ('nose', 1.0): 1, ('since', 1.0): 5, ('off', 1.0): 6, ('but', 1.0): 45, ('well', 1.0): 10, ('long', 1.0): 4, ('gone', 1.0): 4, ('and', 1.0): 200, ('thought', 1.0): 2, ('only', 1.0): 14, ('one', 1.0): 31, ('who', 1.0): 25, ('ever', 1.0): 7, ('nobody', 1.0): 2, ('knew', 1.0): 4, ('what', 1.0): 26, ('talking', 1.0): 2, ('about', 1.0): 14, ('cant', 1.0): 13, ('believe', 1.0): 1, ('found', 1.0): 5, ('again', 1.0): 10, ('can', 1.0): 20, ('replace', 1.0): 1, ('original', 1.0): 2, ('worn', 1.0): 1, ('excited', 1.0): 3, ('have', 1.0): 45, ('his', 1.0): 11, ('clone', 1.0): 1, ('very', 1.0): 23, ('good', 1.0): 26, ('manual', 1.0): 3, ('you', 1.0): 61, ('are', 1.0): 41, ('book', 1.0): 50, ('full', 1.0): 4, ('glossy', 1.0): 1, ('sharp', 1.0): 4, ('this', 1.0): 111, ('not', 1.0): 44, ('lot', 1.0): 12, ('that', 1.0): 55, ('inform', 1.0): 1, ('they', 1.0): 31, ('need', 1.0): 3, ('for', 1.0): 89, ('those', 1.0): 5, ('want', 1.0): 7, ('venture', 1.0): 1, ('timber', 1.0): 5, ('frame', 1.0): 5, ('project', 1.0): 1, ('nice', 1.0): 2, ('money', 1.0): 1, ('first', 1.0): 6, ('bought', 1.0): 7, ('defective', 1.0): 2, ('didnt', 1.0): 3, ('work', 1.0): 10, ('all', 1.0): 29, ('from', 1.0): 34, ('electronics', 1.0): 1, ('express', 1.0): 1, ('when', 1.0): 16, ('them', 1.0): 30, ('were', 1.0): 2, ('wonderful', 1.0): 4, ('gave', 1.0): 4, ('number', 1.0): 1, ('right', 1.0): 4, ('away', 1.0): 3, ('picked', 1.0): 1, ('next', 1.0): 3, ('day', 1.0): 7, ('new', 1.0): 5, ('week', 1.0): 1, ('later', 1.0): 4, ('just', 1.0): 23, ('fine', 1.0): 3, ('really', 1.0): 11, ('love', 1.0): 20, ('clarity', 1.0): 1, ('picture', 1.0): 3, ('complaint', 1.0): 1, ('mode', 1.0): 1, ('sound', 1.0): 6, ('loud', 1.0): 2, ('enough', 1.0): 4, ('running', 1.0): 2, ('barely', 1.0): 2, ('hear', 1.0): 5, ('problem', 1.0): 4, ('audio', 1.0): 4, ('out', 1.0): 20, ('jack', 1.0): 2, ('input', 1.0): 3, ('stereo', 1.0): 1, ('speaker', 1.0): 1, ('system', 1.0): 3, ('lightweight', 1.0): 1, ('easy', 1.0): 8, ('move', 1.0): 6, ('around', 1.0): 6, ('store', 1.0): 2, ('bonus', 1.0): 2, ('remote', 1.0): 4, ('great', 1.0): 37, ('antenna', 1.0): 1, ('get', 1.0): 23, ('player', 1.0): 5, ('deal', 1.0): 2, ('price', 1.0): 5, ('worth', 1.0): 9, ('these', 1.0): 15, ('definitely', 1.0): 3, ('listed', 1.0): 1, ('many', 1.0): 9, ('other', 1.0): 11, ('thigh', 1.0): 2, ('high', 1.0): 5, ('excellent', 1.0): 7, ('product', 1.0): 7, ('however', 1.0): 3, ('difficult', 1.0): 3, ('older', 1.0): 3, ('people', 1.0): 9, ('feel', 1.0): 4, ('like', 1.0): 24, ('workout', 1.0): 1, ('after', 1.0): 6, ('getting', 1.0): 3, ('also', 1.0): 15, ('begin', 1.0): 1, ('roll', 1.0): 1, ('down', 1.0): 5, ('top', 1.0): 5, ('create', 1.0): 1, ('deep', 1.0): 1, ('ridge', 1.0): 1, ('skin', 1.0): 2, ('wear', 1.0): 4, ('two', 1.0): 4, ('could', 1.0): 9, ('would', 1.0): 15, ('such', 1.0): 4, ('help', 1.0): 4, ('wait', 1.0): 4, ('never', 1.0): 6, ('bad', 1.0): 2, ('album', 1.0): 8, ('say', 1.0): 9, ('comeback', 1.0): 1, ('every', 1.0): 9, ('couple', 1.0): 2, ('some', 1.0): 21, ('reason', 1.0): 2, ('radio', 1.0): 3, ('latest', 1.0): 1, ('beer', 1.0): 1, ('little', 1.0): 15, ('devil', 1.0): 1, ('single', 1.0): 5, ('spice', 1.0): 2, ('country', 1.0): 1, ('home', 1.0): 6, ('year', 1.0): 13, ('cool', 1.0): 4, ('far', 1.0): 1, ('behind', 1.0): 3, ('more', 1.0): 17, ('listen', 1.0): 3, ('value', 1.0): 3, ('set', 1.0): 2, ('learning', 1.0): 3, ('format', 1.0): 2, ('been', 1.0): 11, ('too', 1.0): 12, ('storage', 1.0): 1, ('case', 1.0): 2, ('penny', 1.0): 1, ('even', 1.0): 16, ('mommy', 1.0): 1, ('fun', 1.0): 13, ('four', 1.0): 2, ('old', 1.0): 18, ('daughter', 1.0): 13, ('everything', 1.0): 6, ('movie', 1.0): 7, ('game', 1.0): 23, ('together', 1.0): 1, ('finding', 1.0): 2, ('better', 1.0): 5, ('she', 1.0): 35, ('play', 1.0): 5, ('alone', 1.0): 1, ('time', 1.0): 18, ('boring', 1.0): 2, ('save', 1.0): 1, ('your', 1.0): 18, ('pick', 1.0): 2, ('three', 1.0): 3, ('pretty', 1.0): 5, ('girl', 1.0): 5, ('her', 1.0): 21, ('least', 1.0): 3, ('somebody', 1.0): 1, ('said', 1.0): 3, ('skater', 1.0): 1, ('thats', 1.0): 1, ('boloney', 1.0): 1, ('plenty', 1.0): 1, ('until', 1.0): 4, ('hand', 1.0): 1, ('eye', 1.0): 2, ('any', 1.0): 8, ('age', 1.0): 4, ('sake', 1.0): 1, ('world', 1.0): 3, ('negative', 1.0): 2, ('highly', 1.0): 4, ('recommend', 1.0): 6, ('sparkling', 1.0): 1, ('ice', 1.0): 1, ('show', 1.0): 1, ('read', 1.0): 23, ('brilliant', 1.0): 1, ('yet', 1.0): 4, ('realistic', 1.0): 1, ('error', 1.0): 1, ('human', 1.0): 2, ('fact', 1.0): 4, ('writer', 1.0): 1, ('loving', 1.0): 1, ('side', 1.0): 2, ('god', 1.0): 2, ('revengeful', 1.0): 1, ('how', 1.0): 6, ('twisted', 1.0): 1, ('turned', 1.0): 2, ('put', 1.0): 4, ('glass', 1.0): 1, ('castle', 1.0): 3, ('flat', 1.0): 1, ('panel', 1.0): 1, ('built', 1.0): 2, ('light', 1.0): 2, ('weight', 1.0): 1, ('space', 1.0): 1, ('saving', 1.0): 1, ('attractive', 1.0): 1, ('design', 1.0): 2, ('quality', 1.0): 4, ('quick', 1.0): 4, ('response', 1.0): 2, ('playback', 1.0): 1, ('control', 1.0): 2, ('hard', 1.0): 3, ('due', 1.0): 1, ('color', 1.0): 5, ('placement', 1.0): 1, ('almost', 1.0): 6, ('illogical', 1.0): 1, ('look', 1.0): 7, ('carefully', 1.0): 1, ('before', 1.0): 4, ('each', 1.0): 8, ('use', 1.0): 8, ('designed', 1.0): 1, ('still', 1.0): 10, ('buy', 1.0): 8, ('kind', 1.0): 3, ('building', 1.0): 2, ('husband', 1.0): 2, ('learned', 1.0): 1, ('much', 1.0): 13, ('best', 1.0): 13, ('learn', 1.0): 5, ('build', 1.0): 3, ('house', 1.0): 4, ('outstanding', 1.0): 1, ('guidebook', 1.0): 1, ('own', 1.0): 3, ('wife', 1.0): 1, ('hybrid', 1.0): 1, ('guide', 1.0): 2, ('although', 1.0): 4, ('construction', 1.0): 1, ('invaluable', 1.0): 1, ('through', 1.0): 3, ('process', 1.0): 1, ('another', 1.0): 4, ('anyone', 1.0): 5, ('considering', 1.0): 1, ('fast', 1.0): 2, ('boy', 1.0): 2, ('twist', 1.0): 3, ('turn', 1.0): 2, ('guessing', 1.0): 1, ('wanting', 1.0): 4, ('know', 1.0): 9, ('going', 1.0): 5, ('happen', 1.0): 1, ('fall', 1.0): 2, ('heat', 1.0): 1, ('make', 1.0): 9, ('throu', 1.0): 1, ('several', 1.0): 2, ('romance', 1.0): 6, ('something', 1.0): 3, ('will', 1.0): 10, ('end', 1.0): 2, ('night', 1.0): 1, ('both', 1.0): 6, ('enjoy', 1.0): 3, ('different', 1.0): 2, ('prepare', 1.0): 1, ('parade', 1.0): 5, ('float', 1.0): 1, ('endless', 1.0): 1, ('graphic', 1.0): 4, ('animation', 1.0): 2, ('colorful', 1.0): 1, ('cute', 1.0): 5, ('winner', 1.0): 1, ('happy', 1.0): 6, ('bookshelf', 1.0): 1, ('car', 1.0): 1, ('came', 1.0): 2, ('room', 1.0): 4, ('man', 1.0): 7, ('decided', 1.0): 4, ('because', 1.0): 18, ('think', 1.0): 8, ('longer', 1.0): 2, ('except', 1.0): 1, ('cable', 1.0): 4, ('box', 1.0): 7, ('video', 1.0): 2, ('coax', 1.0): 1, ('tell', 1.0): 3, ('difference', 1.0): 1, ('then', 1.0): 8, ('ill', 1.0): 3, ('live', 1.0): 3, ('run', 1.0): 2, ('big', 1.0): 9, ('title', 1.0): 3, ('warm', 1.0): 1, ('comfy', 1.0): 1, ('size', 1.0): 2, ('lounging', 1.0): 1, ('received', 1.0): 1, ('moving', 1.0): 1, ('overview', 1.0): 1, ('travel', 1.0): 4, ('unfortunately', 1.0): 1, ('there', 1.0): 14, ('sort', 1.0): 1, ('printing', 1.0): 1, ('rest', 1.0): 4, ('give', 1.0): 4, ('though', 1.0): 3, ('odd', 1.0): 1, ('disappointed', 1.0): 1, ('touch', 1.0): 1, ('where', 1.0): 8, ('assuming', 1.0): 1, ('mix', 1.0): 2, ('available', 1.0): 3, ('absolute', 1.0): 1, ('masterpiece', 1.0): 1, ('quite', 1.0): 3, ('sure', 1.0): 4, ('actually', 1.0): 5, ('taking', 1.0): 1, ('once', 1.0): 3, ('few', 1.0): 5, ('here', 1.0): 5, ('whether', 1.0): 1, ('aware', 1.0): 1, ('music', 1.0): 13, ('greatly', 1.0): 1, ('mood', 1.0): 1, ('minute', 1.0): 2, ('whole', 1.0): 4, ('havent', 1.0): 2, ('exact', 1.0): 1, ('count', 1.0): 2, ('which', 1.0): 11, ('impressively', 1.0): 1, ('remarkable', 1.0): 1, ('assure', 1.0): 1, ('forget', 1.0): 2, ('listener', 1.0): 1, ('energetic', 1.0): 1, ('dancing', 1.0): 1, ('termina', 1.0): 1, ('dragon', 1.0): 1, ('purely', 1.0): 1, ('beautifully', 1.0): 2, ('composed', 1.0): 1, ('scar', 1.0): 2, ('fantastic', 1.0): 1, ('radical', 1.0): 1, ('surely', 1.0): 1, ('dog', 1.0): 4, ('apart', 1.0): 1, ('took', 1.0): 3, ('than', 1.0): 8, ('fascinating', 1.0): 3, ('insight', 1.0): 2, ('into', 1.0): 8, ('life', 1.0): 7, ('modern', 1.0): 2, ('teen', 1.0): 3, ('thoroughly', 1.0): 2, ('rising', 1.0): 1, ('son', 1.0): 4, ('society', 1.0): 1, ('point', 1.0): 1, ('view', 1.0): 3, ('young', 1.0): 8, ('poised', 1.0): 1, ('between', 1.0): 4, ('their', 1.0): 7, ('culture', 1.0): 4, ('restraint', 1.0): 1, ('obedience', 1.0): 1, ('community', 1.0): 2, ('adulation', 1.0): 1, ('western', 1.0): 1, ('true', 1.0): 3, ('form', 1.0): 1, ('japan', 1.0): 3, ('seem', 1.0): 3, ('international', 1.0): 1, ('blend', 1.0): 1, ('family', 1.0): 5, ('written', 1.0): 3, ('private', 1.0): 1, ('steven', 1.0): 1, ('clearly', 1.0): 2, ('talented', 1.0): 1, ('author', 1.0): 1, ('adopted', 1.0): 1, ('schooling', 1.0): 1, ('thus', 1.0): 1, ('able', 1.0): 7, ('inside', 1.0): 8, ('come', 1.0): 6, ('early', 1.0): 2, ('forty', 1.0): 1, ('now', 1.0): 11, ('dad', 1.0): 2, ('significance', 1.0): 1, ('got', 1.0): 10, ('child', 1.0): 4, ('doe', 1.0): 5, ('same', 1.0): 2, ('terminal', 1.0): 1, ('making', 1.0): 3, ('label', 1.0): 3, ('fronted', 1.0): 1, ('course', 1.0): 1, ('wild', 1.0): 1, ('jay', 1.0): 2, ('starting', 1.0): 1, ('eric', 1.0): 1, ('goner', 1.0): 1, ('tender', 1.0): 1, ('rocking', 1.0): 1, ('overdriven', 1.0): 1, ('crackling', 1.0): 1, ('underlaying', 1.0): 1, ('southern', 1.0): 1, ('crooning', 1.0): 1, ('howl', 1.0): 1, ('most', 1.0): 12, ('amazing', 1.0): 8, ('song', 1.0): 7, ('writing', 1.0): 2, ('weve', 1.0): 1, ('slip', 1.0): 1, ('heel', 1.0): 1, ('completely', 1.0): 2, ('satisfied', 1.0): 1, ('manner', 1.0): 1, ('order', 1.0): 1, ('awesome', 1.0): 2, ('advertisement', 1.0): 1, ('theyre', 1.0): 8, ('keep', 1.0): 5, ('mind', 1.0): 4, ('seeing', 1.0): 1, ('spin', 1.0): 2, ('letter', 1.0): 1, ('queen', 1.0): 1, ('watermelon', 1.0): 1, ('rattle', 1.0): 1, ('type', 1.0): 2, ('yes', 1.0): 2, ('meant', 1.0): 1, ('knocking', 1.0): 2, ('over', 1.0): 9, ('banging', 1.0): 2, ('plain', 1.0): 1, ('wooden', 1.0): 3, ('while', 1.0): 4, ('ready', 1.0): 3, ('review', 1.0): 1, ('profound', 1.0): 1, ('decision', 1.0): 1, ('overnight', 1.0): 1, ('rocket', 1.0): 1, ('scientist', 1.0): 1, ('libro', 1.0): 1, ('contiene', 1.0): 1, ('interesaba', 1.0): 1, ('saber', 1.0): 1, ('cautivo', 1.0): 1, ('lei', 1.0): 1, ('hasta', 1.0): 2, ('final', 1.0): 2, ('ahora', 1.0): 1, ('puedo', 1.0): 1, ('discutir', 1.0): 1, ('con', 1.0): 2, ('esposo', 1.0): 1, ('boxeador', 1.0): 1, ('wicked', 1.0): 1, ('made', 1.0): 4, ('reading', 1.0): 5, ('left', 1.0): 1, ('follow', 1.0): 1, ('hope', 1.0): 2, ('coming', 1.0): 2, ('soon', 1.0): 1, ('used', 1.0): 3, ('gotten', 1.0): 2, ('enjoyable', 1.0): 2, ('starcraft', 1.0): 1, ('warcraft', 1.0): 1, ('redundant', 1.0): 1, ('else', 1.0): 2, ('truly', 1.0): 1, ('total', 1.0): 1, ('combat', 1.0): 1, ('pleasure', 1.0): 1, ('museum', 1.0): 3, ('friend', 1.0): 2, ('master', 1.0): 1, ('carpenter', 1.0): 1, ('saw', 1.0): 2, ('recent', 1.0): 1, ('trip', 1.0): 2, ('avid', 1.0): 1, ('reader', 1.0): 1, ('ago', 1.0): 3, ('background', 1.0): 1, ('gymnastic', 1.0): 1, ('dance', 1.0): 2, ('feat', 1.0): 1, ('russia', 1.0): 1, ('melody', 1.0): 1, ('see', 1.0): 4, ('via', 1.0): 1, ('happily', 1.0): 1, ('nifty', 1.0): 1, ('party', 1.0): 1, ('dummy', 1.0): 1, ('forgot', 1.0): 2, ('nevertheless', 1.0): 1, ('did', 1.0): 5, ('hold', 1.0): 2, ('search', 1.0): 1, ('place', 1.0): 3, ('bit', 1.0): 6, ('educational', 1.0): 2, ('teach', 1.0): 2, ('actual', 1.0): 1, ('scene', 1.0): 1, ('whale', 1.0): 2, ('naturalist', 1.0): 1, ('animal', 1.0): 1, ('communicator', 1.0): 1, ('mary', 1.0): 1, ('beyond', 1.0): 1, ('research', 1.0): 1, ('way', 1.0): 2, ('study', 1.0): 1, ('communication', 1.0): 2, ('studied', 1.0): 1, ('state', 1.0): 2, ('contention', 1.0): 1, ('direct', 1.0): 1, ('telepathic', 1.0): 1, ('themselves', 1.0): 1, ('romantic', 1.0): 1, ('baseball', 1.0): 10, ('comedy', 1.0): 1, ('might', 1.0): 2, ('sea', 1.0): 2, ('story', 1.0): 6, ('searching', 1.0): 1, ('coastal', 1.0): 1, ('resort', 1.0): 1, ('kitchen', 1.0): 2, ('gig', 1.0): 1, ('motorcycle', 1.0): 1, ('maintenance', 1.0): 1, ('hysterical', 1.0): 1, ('handed', 1.0): 1, ('pitcher', 1.0): 1, ('team', 1.0): 2, ('owner', 1.0): 1, ('often', 1.0): 2, ('herself', 1.0): 2, ('honest', 1.0): 1, ('comical', 1.0): 1, ('always', 1.0): 4, ('emotional', 1.0): 1, ('interaction', 1.0): 1, ('sizzling', 1.0): 1, ('roster', 1.0): 1, ('perfect', 1.0): 3, ('special', 1.0): 2, ('effect', 1.0): 1, ('authentic', 1.0): 1, ('encounter', 1.0): 1, ('helping', 1.0): 1, ('short', 1.0): 1, ('particular', 1.0): 1, ('certain', 1.0): 1, ('grammar', 1.0): 1, ('someone', 1.0): 1, ('spoke', 1.0): 1, ('doesnt', 1.0): 2, ('anybody', 1.0): 1, ('ask', 1.0): 1, ('clue', 1.0): 1, ('leaf', 1.0): 2, ('unanswered', 1.0): 1, ('hopefully', 1.0): 2, ('note', 1.0): 1, ('add', 1.0): 1, ('job', 1.0): 2, ('giving', 1.0): 1, ('general', 1.0): 2, ('start', 1.0): 3, ('wrong', 1.0): 2, ('seven', 1.0): 1, ('perfectly', 1.0): 2, ('skill', 1.0): 1, ('avoid', 1.0): 1, ('frustration', 1.0): 1, ('factor', 1.0): 2, ('experienced', 1.0): 1, ('complete', 1.0): 1, ('especially', 1.0): 3, ('medium', 1.0): 2, ('unless', 1.0): 2, ('totally', 1.0): 2, ('figure', 1.0): 1, ('skating', 1.0): 1, ('crowd', 1.0): 1, ('why', 1.0): 1, ('alike', 1.0): 2, ('rock', 1.0): 3, ('debut', 1.0): 2, ('defunct', 1.0): 1, ('chock', 1.0): 1, ('attention', 1.0): 3, ('return', 1.0): 1, ('band', 1.0): 3, ('last', 1.0): 3, ('notice', 1.0): 1, ('production', 1.0): 2, ('sheer', 1.0): 2, ('power', 1.0): 2, ('cheeky', 1.0): 1, ('release', 1.0): 2, ('version', 1.0): 2, ('garner', 1.0): 1, ('practically', 1.0): 1, ('leap', 1.0): 1, ('grab', 1.0): 1, ('neck', 1.0): 1, ('head', 1.0): 2, ('upcoming', 1.0): 1, ('second', 1.0): 3, ('informative', 1.0): 1, ('understand', 1.0): 3, ('medicine', 1.0): 1, ('collection', 1.0): 1, ('advise', 1.0): 1, ('ruth', 1.0): 1, ('told', 1.0): 2, ('past', 1.0): 2, ('stand', 1.0): 1, ('mixer', 1.0): 1, ('nor', 1.0): 1, ('civilized', 1.0): 1, ('pot', 1.0): 1, ('exhibit', 1.0): 2, ('genealogy', 1.0): 2, ('section', 1.0): 1, ('take', 1.0): 2, ('library', 1.0): 2, ('sit', 1.0): 1, ('ghetto', 1.0): 2, ('ration', 1.0): 1, ('yellow', 1.0): 1, ('etc', 1.0): 3, ('simple', 1.0): 2, ('certainly', 1.0): 1, ('probably', 1.0): 5, ('information', 1.0): 4, ('ordinary', 1.0): 1, ('person', 1.0): 1, ('interested', 1.0): 2, ('holocaust', 1.0): 2, ('diary', 1.0): 2, ('printed', 1.0): 1, ('mask', 1.0): 2, ('maker', 1.0): 2, ('dull', 1.0): 1, ('moment', 1.0): 1, ('watch', 1.0): 2, ('wondering', 1.0): 2, ('part', 1.0): 2, ('charisma', 1.0): 2, ('word', 1.0): 2, ('obsession', 1.0): 1, ('under', 1.0): 1, ('guise', 1.0): 1, ('incurable', 1.0): 1, ('infection', 1.0): 1, ('threw', 1.0): 1, ('trauma', 1.0): 1, ('replacement', 1.0): 1, ('safely', 1.0): 1, ('closet', 1.0): 1, ('shelf', 1.0): 1, ('thread', 1.0): 1, ('bare', 1.0): 1, ('none', 1.0): 2, ('guy', 1.0): 1, ('touched', 1.0): 1, ('real', 1.0): 4, ('guess', 1.0): 2, ('daddy', 1.0): 1, ('phone', 1.0): 1, ('granddaughter', 1.0): 2, ('company', 1.0): 1, ('should', 1.0): 3, ('bottle', 1.0): 2, ('thanks', 1.0): 1, ('keeping', 1.0): 2, ('alive', 1.0): 3, ('divine', 1.0): 1, ('fragrance', 1.0): 1, ('delicate', 1.0): 1, ('sent', 1.0): 1, ('beautiful', 1.0): 3, ('summer', 1.0): 1, ('hell', 1.0): 2, ('moral', 1.0): 1, ('aspect', 1.0): 1, ('lucid', 1.0): 1, ('explanation', 1.0): 1, ('become', 1.0): 1, ('our', 1.0): 8, ('individual', 1.0): 1, ('personal', 1.0): 1, ('public', 1.0): 1, ('indictment', 1.0): 1, ('seller', 1.0): 1, ('looking', 1.0): 2, ('disgusted', 1.0): 1, ('boorish', 1.0): 1, ('politics', 1.0): 1, ('discourse', 1.0): 1, ('clear', 1.0): 2, ('substantial', 1.0): 1, ('lie', 1.0): 1, ('cereal', 1.0): 7, ('tried', 1.0): 3, ('hooked', 1.0): 1, ('breakfast', 1.0): 2, ('choice', 1.0): 2, ('eat', 1.0): 2, ('crave', 1.0): 2, ('honey', 1.0): 2, ('taste', 1.0): 2, ('wont', 1.0): 2, ('hungry', 1.0): 1, ('youd', 1.0): 1, ('crunch', 1.0): 1, ('option', 1.0): 1, ('splendid', 1.0): 1, ('filled', 1.0): 1, ('tasting', 1.0): 1, ('trill', 1.0): 1, ('official', 1.0): 1, ('screwed', 1.0): 1, ('among', 1.0): 1, ('fallen', 1.0): 1, ('screw', 1.0): 1, ('sad', 1.0): 2, ('rap', 1.0): 1, ('youve', 1.0): 3, ('kickback', 1.0): 1, ('blow', 1.0): 1, ('jam', 1.0): 1, ('ride', 1.0): 1, ('wish', 1.0): 3, ('check', 1.0): 1, ('whats', 1.0): 1, ('happening', 1.0): 1, ('sadly', 1.0): 1, ('late', 1.0): 2, ('pimp', 1.0): 1, ('regardless', 1.0): 1, ('pokey', 1.0): 1, ('legacy', 1.0): 1, ('classic', 1.0): 2, ('record', 1.0): 1, ('worst', 1.0): 1, ('horror', 1.0): 3, ('film', 1.0): 2, ('displayed', 1.0): 1, ('effort', 1.0): 1, ('steer', 1.0): 1, ('typical', 1.0): 1, ('dialogue', 1.0): 1, ('blonde', 1.0): 1, ('tree', 1.0): 2, ('yard', 1.0): 1, ('white', 1.0): 4, ('knee', 1.0): 1, ('root', 1.0): 1, ('tech', 1.0): 1, ('emotion', 1.0): 1, ('waving', 1.0): 1, ('highlight', 1.0): 1, ('curious', 1.0): 1, ('simply', 1.0): 1, ('expect', 1.0): 2, ('creepy', 1.0): 1, ('wow', 1.0): 2, ('jealousy', 1.0): 1, ('revenge', 1.0): 1, ('open', 1.0): 1, ('prepared', 1.0): 1, ('find', 1.0): 7, ('delicious', 1.0): 1, ('warning', 1.0): 1, ('saturated', 1.0): 1, ('fat', 1.0): 2, ('cabinet', 1.0): 1, ('reviewer', 1.0): 1, ('outrageous', 1.0): 1, ('contemporary', 1.0): 1, ('delight', 1.0): 1, ('snow', 1.0): 1, ('grown', 1.0): 1, ('class', 1.0): 1, ('act', 1.0): 1, ('rich', 1.0): 2, ('rewarding', 1.0): 1, ('forward', 1.0): 1, ('distraught', 1.0): 1, ('local', 1.0): 3, ('stopped', 1.0): 1, ('carrying', 1.0): 1, ('favorite', 1.0): 6, ('elated', 1.0): 1, ('site', 1.0): 2, ('church', 1.0): 2, ('pack', 1.0): 1, ('thing', 1.0): 3, ('small', 1.0): 1, ('maybe', 1.0): 1, ('bowl', 1.0): 1, ('entire', 1.0): 2, ('unknown', 1.0): 1, ('produced', 1.0): 1, ('mixture', 1.0): 1, ('feeling', 1.0): 2, ('soft', 1.0): 3, ('voice', 1.0): 1, ('working', 1.0): 1, ('must', 1.0): 1, ('hot', 1.0): 1, ('lazy', 1.0): 1, ('ordered', 1.0): 1, ('sang', 1.0): 1, ('along', 1.0): 2, ('captain', 1.0): 1, ('historical', 1.0): 2, ('engaging', 1.0): 1, ('washed', 1.0): 1, ('shore', 1.0): 2, ('isle', 1.0): 2, ('may', 1.0): 5, ('memory', 1.0): 3, ('stay', 1.0): 1, ('dead', 1.0): 1, ('colin', 1.0): 3, ('uncover', 1.0): 1, ('attract', 1.0): 1, ('series', 1.0): 3, ('novel', 1.0): 3, ('call', 1.0): 1, ('trashy', 1.0): 1, ('gift', 1.0): 3, ('baby', 1.0): 1, ('felt', 1.0): 1, ('mother', 1.0): 1, ('list', 1.0): 2, ('receive', 1.0): 1, ('fan', 1.0): 3, ('computer', 1.0): 1, ('enjoying', 1.0): 1, ('worried', 1.0): 1, ('vibrant', 1.0): 1, ('user', 1.0): 1, ('friendly', 1.0): 1, ('everybody', 1.0): 1, ('combination', 1.0): 3, ('illustration', 1.0): 1, ('overall', 1.0): 1, ('important', 1.0): 2, ('already', 1.0): 2, ('traveled', 1.0): 1, ('inspiration', 1.0): 2, ('interesting', 1.0): 1, ('thank', 1.0): 3, ('eyewitness', 1.0): 1, ('coast', 1.0): 2, ('hoped', 1.0): 1, ('textbook', 1.0): 1, ('shipped', 1.0): 1, ('quickly', 1.0): 1, ('condition', 1.0): 1, ('stated', 1.0): 1, ('transaction', 1.0): 1, ('diehard', 1.0): 1, ('finally', 1.0): 2, ('plunge', 1.0): 1, ('subscription', 1.0): 1, ('coverage', 1.0): 1, ('college', 1.0): 1, ('school', 1.0): 1, ('kelly', 1.0): 2, ('club', 1.0): 1, ('pet', 1.0): 3, ('hit', 1.0): 1, ('strike', 1.0): 1, ('clap', 1.0): 1, ('dress', 1.0): 1, ('train', 1.0): 1, ('pony', 1.0): 1, ('jump', 1.0): 1, ('clean', 1.0): 1, ('paint', 1.0): 2, ('toe', 1.0): 2, ('decorate', 1.0): 1, ('shell', 1.0): 1, ('showing', 1.0): 1, ('accomplished', 1.0): 1, ('wonderfully', 1.0): 1, ('mostly', 1.0): 1, ('inset', 1.0): 1, ('mouse', 1.0): 3, ('tough', 1.0): 1, ('polar', 1.0): 1, ('bear', 1.0): 1, ('catching', 1.0): 1, ('fish', 1.0): 2, ('tricky', 1.0): 1, ('finger', 1.0): 1, ('pad', 1.0): 1, ('click', 1.0): 1, ('catch', 1.0): 1, ('easier', 1.0): 1, ('regular', 1.0): 2, ('refer', 1.0): 1, ('walt', 1.0): 1, ('contradict', 1.0): 1, ('peter', 1.0): 1, ('stark', 1.0): 1, ('detailed', 1.0): 1, ('major', 1.0): 1, ('extensive', 1.0): 1, ('resource', 1.0): 1, ('prospect', 1.0): 1, ('serious', 1.0): 1, ('subscriber', 1.0): 1, ('tomorrow', 1.0): 2, ('being', 1.0): 1, ('till', 1.0): 1, ('massive', 1.0): 1, ('living', 1.0): 1, ('without', 1.0): 2, ('shake', 1.0): 1, ('imaginative', 1.0): 1, ('playtime', 1.0): 1, ('blunt', 1.0): 1, ('wood', 1.0): 1, ('safety', 1.0): 1, ('smaller', 1.0): 1, ('alphabet', 1.0): 3, ('corresponding', 1.0): 1, ('object', 1.0): 1, ('tool', 1.0): 1, ('waterproof', 1.0): 2, ('blue', 1.0): 2, ('relationship', 1.0): 1, ('worked', 1.0): 1, ('half', 1.0): 1, ('farm', 1.0): 2, ('lived', 1.0): 1, ('kept', 1.0): 1, ('photo', 1.0): 1, ('wasnt', 1.0): 2, ('winning', 1.0): 1, ('parent', 1.0): 1, ('starter', 1.0): 1, ('puzzle', 1.0): 1, ('range', 1.0): 1, ('track', 1.0): 3, ('hate', 1.0): 1, ('cross', 1.0): 2, ('crude', 1.0): 1, ('step', 1.0): 1, ('grate', 1.0): 1, ('soulful', 1.0): 1, ('impress', 1.0): 1, ('creative', 1.0): 2, ('adventure', 1.0): 2, ('software', 1.0): 4, ('sometimes', 1.0): 4, ('plan', 1.0): 1, ('purchase', 1.0): 1, ('classed', 1.0): 1, ('art', 1.0): 1, ('shocking', 1.0): 1, ('ending', 1.0): 1, ('plot', 1.0): 1, ('miss', 1.0): 1, ('obvious', 1.0): 1, ('toy', 1.0): 4, ('grandchild', 1.0): 1, ('goodness', 1.0): 1, ('shopping', 1.0): 1, ('imagination', 1.0): 2, ('fight', 1.0): 1, ('choose', 1.0): 1, ('missing', 1.0): 3, ('crown', 1.0): 1, ('prince', 1.0): 2, ('stone', 1.0): 1, ('bring', 1.0): 1, ('seen', 1.0): 2, ('adult', 1.0): 1, ('copy', 1.0): 1, ('til', 1.0): 1, ('investment', 1.0): 1, ('durable', 1.0): 1, ('shape', 1.0): 1, ('plus', 1.0): 1, ('hurt', 1.0): 1, ('category', 1.0): 1, ('rated', 1.0): 1, ('instead', 1.0): 1, ('younger', 1.0): 1, ('fully', 1.0): 1, ('comprehend', 1.0): 1, ('dig', 1.0): 1, ('cause', 1.0): 1, ('peek', 1.0): 1, ('obviously', 1.0): 1, ('jiggle', 1.0): 1, ('noise', 1.0): 1, ('incorporate', 1.0): 1, ('easily', 1.0): 1, ('identify', 1.0): 1, ('banana', 1.0): 1, ('penguin', 1.0): 1, ('umbrella', 1.0): 1, ('pry', 1.0): 1, ('block', 1.0): 2, ('matter', 1.0): 1, ('usually', 1.0): 2, ('sole', 1.0): 1, ('purpose', 1.0): 1, ('smashing', 1.0): 1, ('dropping', 1.0): 1, ('stepped', 1.0): 1, ('tolerate', 1.0): 1, ('treatment', 1.0): 1, ('rather', 1.0): 1, ('stop', 1.0): 2, ('shop', 1.0): 1, ('hair', 1.0): 4, ('smelling', 1.0): 1, ('saying', 1.0): 1, ('anywhere', 1.0): 1, ('depending', 1.0): 1, ('try', 1.0): 1, ('grocery', 1.0): 1, ('fashionable', 1.0): 1, ('compression', 1.0): 3, ('doctor', 1.0): 1, ('wore', 1.0): 1, ('ugly', 1.0): 1, ('ted', 1.0): 1, ('hose', 1.0): 1, ('yucky', 1.0): 1, ('thick', 1.0): 1, ('brown', 1.0): 1, ('blood', 1.0): 1, ('clot', 1.0): 1, ('support', 1.0): 1, ('rolling', 1.0): 2, ('adhesive', 1.0): 1, ('inexpensive', 1.0): 1, ('garter', 1.0): 1, ('belt', 1.0): 1, ('dirty', 1.0): 1, ('south', 1.0): 1, ('guest', 1.0): 1, ('pat', 1.0): 1, ('botany', 1.0): 1, ('ward', 1.0): 1, ('hawk', 1.0): 1, ('match', 1.0): 1, ('speak', 1.0): 1, ('abuse', 1.0): 2, ('talk', 1.0): 1, ('wrote', 1.0): 1, ('abusive', 1.0): 1, ('childhood', 1.0): 2, ('experience', 1.0): 1, ('forgive', 1.0): 1, ('successful', 1.0): 1, ('spite', 1.0): 1, ('horrendous', 1.0): 1, ('possible', 1.0): 1, ('intense', 1.0): 1, ('sadness', 1.0): 1, ('fate', 1.0): 1, ('distant', 1.0): 1, ('promise', 1.0): 1, ('stole', 1.0): 1, ('star', 1.0): 1, ('personally', 1.0): 1, ('throughout', 1.0): 1, ('higher', 1.0): 1, ('energy', 1.0): 1, ('indefinably', 1.0): 1, ('trigger', 1.0): 1, ('absolutely', 1.0): 1, ('superb', 1.0): 1, ('twice', 1.0): 1, ('manipulate', 1.0): 1, ('adorable', 1.0): 1, ('twirl', 1.0): 1, ('upgrade', 1.0): 1, ('standard', 1.0): 1, ('creativity', 1.0): 1, ('addicted', 1.0): 1, ('opening', 1.0): 1, ('singing', 1.0): 1, ('non', 1.0): 1, ('gem', 1.0): 1, ('maze', 1.0): 1, ('smoothing', 1.0): 1, ('serum', 1.0): 1, ('curly', 1.0): 1, ('frizzy', 1.0): 1, ('rid', 1.0): 1, ('friz', 1.0): 1, ('damp', 1.0): 1, ('weather', 1.0): 1, ('artistry', 1.0): 1, ('appreciate', 1.0): 1, ('guitar', 1.0): 1, ('tied', 1.0): 1, ('wearing', 1.0): 1, ('kilt', 1.0): 1, ('enchanting', 1.0): 1, ('highlander', 1.0): 1, ('heroine', 1.0): 1, ('based', 1.0): 2, ('glad', 1.0): 1, ('present', 1.0): 1, ('myself', 1.0): 1, ('join', 1.0): 1, ('let', 1.0): 1, ('agree', 1.0): 1, ('setup', 1.0): 1, ('awkward', 1.0): 2, ('selection', 1.0): 1, ('intuitive', 1.0): 1, ('complicated', 1.0): 1, ('button', 1.0): 1, ('please', 1.0): 1, ('rely', 1.0): 1, ('heavily', 1.0): 1, ('setting', 1.0): 1, ('timer', 1.0): 1, ('enter', 1.0): 1, ('scroll', 1.0): 1, ('product', 0.0): 13, ('didnt', 0.0): 10, ('match', 0.0): 2, ('the', 0.0): 396, ('unless', 0.0): 4, ('they', 0.0): 23, ('sent', 0.0): 5, ('wrong', 0.0): 4, ('mistake', 0.0): 3, ('foot', 0.0): 5, ('cushion', 0.0): 2, ('picture', 0.0): 4, ('and', 0.0): 177, ('description', 0.0): 3, ('doe', 0.0): 10, ('not', 0.0): 88, ('item', 0.0): 4, ('under', 0.0): 4, ('impression', 0.0): 1, ('would', 0.0): 27, ('receive', 0.0): 1, ('two', 0.0): 5, ('pair', 0.0): 1, ('water', 0.0): 7, ('filled', 0.0): 2, ('that', 0.0): 66, ('could', 0.0): 9, ('insert', 0.0): 1, ('into', 0.0): 6, ('instead', 0.0): 5, ('received', 0.0): 10, ('one', 0.0): 46, ('with', 0.0): 39, ('another', 0.0): 13, ('material', 0.0): 2, ('you', 0.0): 59, ('attach', 0.0): 1, ('your', 0.0): 16, ('via', 0.0): 1, ('toe', 0.0): 1, ('strap', 0.0): 1, ('happy', 0.0): 2, ('back', 0.0): 11, ('for', 0.0): 60, ('refund', 0.0): 4, ('luckily', 0.0): 1, ('great', 0.0): 11, ('return', 0.0): 4, ('policy', 0.0): 1, ('make', 0.0): 9, ('very', 0.0): 41, ('easy', 0.0): 6, ('dont', 0.0): 22, ('bought', 0.0): 11, ('this', 0.0): 139, ('set', 0.0): 5, ('last', 0.0): 6, ('just', 0.0): 15, ('now', 0.0): 15, ('decided', 0.0): 2, ('listen', 0.0): 3, ('nowhere', 0.0): 1, ('say', 0.0): 3, ('original', 0.0): 13, ('fact', 0.0): 4, ('various', 0.0): 6, ('which', 0.0): 8, ('deceiving', 0.0): 1, ('because', 0.0): 13, ('only', 0.0): 12, ('group', 0.0): 2, ('all', 0.0): 24, ('believe', 0.0): 8, ('when', 0.0): 15, ('after', 0.0): 9, ('compilation', 0.0): 2, ('music', 0.0): 11, ('waste', 0.0): 14, ('money', 0.0): 14, ('will', 0.0): 17, ('probably', 0.0): 1, ('throw', 0.0): 3, ('these', 0.0): 14, ('trash', 0.0): 1, ('purist', 0.0): 1, ('want', 0.0): 8, ('wedding', 0.0): 1, ('reception', 0.0): 1, ('technical', 0.0): 1, ('information', 0.0): 4, ('book', 0.0): 37, ('over', 0.0): 10, ('view', 0.0): 1, ('used', 0.0): 9, ('building', 0.0): 3, ('but', 0.0): 59, ('beam', 0.0): 1, ('actually', 0.0): 6, ('build', 0.0): 1, ('off', 0.0): 4, ('garbage', 0.0): 2, ('where', 0.0): 10, ('trying', 0.0): 3, ('turn', 0.0): 1, ('end', 0.0): 8, ('control', 0.0): 2, ('battery', 0.0): 2, ('cover', 0.0): 5, ('how', 0.0): 8, ('few', 0.0): 4, ('are', 0.0): 62, ('handful', 0.0): 1, ('hear', 0.0): 2, ('again', 0.0): 11, ('far', 0.0): 5, ('from', 0.0): 31, ('complete', 0.0): 4, ('such', 0.0): 3, ('memorable', 0.0): 1, ('sealed', 0.0): 1, ('door', 0.0): 1, ('across', 0.0): 6, ('time', 0.0): 17, ('bottom', 0.0): 2, ('doesnt', 0.0): 13, ('have', 0.0): 52, ('single', 0.0): 3, ('battle', 0.0): 1, ('theme', 0.0): 2, ('accept', 0.0): 2, ('final', 0.0): 1, ('even', 0.0): 14, ('seen', 0.0): 5, ('beforehand', 0.0): 1, ('wouldnt', 0.0): 6, ('blame', 0.0): 1, ('self', 0.0): 1, ('being', 0.0): 2, ('more', 0.0): 11, ('curious', 0.0): 1, ('number', 0.0): 1, ('sorry', 0.0): 1, ('travesty', 0.0): 1, ('may', 0.0): 3, ('mercy', 0.0): 1, ('while', 0.0): 9, ('still', 0.0): 2, ('can', 0.0): 16, ('best', 0.0): 4, ('both', 0.0): 2, ('lonely', 0.0): 2, ('planet', 0.0): 2, ('full', 0.0): 1, ('give', 0.0): 6, ('need', 0.0): 7, ('also', 0.0): 6, ('ended', 0.0): 1, ('each', 0.0): 1, ('city', 0.0): 1, ('guide', 0.0): 1, ('well', 0.0): 7, ('scratch', 0.0): 1, ('surface', 0.0): 1, ('false', 0.0): 1, ('advertisement', 0.0): 1, ('pillow', 0.0): 11, ('nothing', 0.0): 10, ('like', 0.0): 21, ('half', 0.0): 3, ('size', 0.0): 5, ('thickness', 0.0): 1, ('seller', 0.0): 5, ('never', 0.0): 13, ('purchase', 0.0): 3, ('company', 0.0): 5, ('ever', 0.0): 4, ('currently', 0.0): 3, ('military', 0.0): 2, ('feel', 0.0): 2, ('disrespectful', 0.0): 1, ('show', 0.0): 2, ('proper', 0.0): 3, ('courtesy', 0.0): 1, ('dealing', 0.0): 1, ('buy', 0.0): 11, ('satisfied', 0.0): 1, ('unfortunately', 0.0): 1, ('wasnt', 0.0): 6, ('entertaining', 0.0): 1, ('least', 0.0): 7, ('bit', 0.0): 3, ('first', 0.0): 7, ('ordered', 0.0): 8, ('figured', 0.0): 1, ('going', 0.0): 6, ('hip', 0.0): 2, ('cool', 0.0): 3, ('daddy', 0.0): 1, ('however', 0.0): 10, ('much', 0.0): 13, ('dismay', 0.0): 1, ('fourth', 0.0): 1, ('grade', 0.0): 2, ('class', 0.0): 1, ('main', 0.0): 1, ('there', 0.0): 17, ('replicate', 0.0): 1, ('happening', 0.0): 1, ('party', 0.0): 3, ('anywhere', 0.0): 2, ('neighborhood', 0.0): 1, ('get', 0.0): 16, ('beach', 0.0): 2, ('growing', 0.0): 1, ('surfer', 0.0): 1, ('san', 0.0): 1, ('recommend', 0.0): 6, ('any', 0.0): 11, ('southern', 0.0): 2, ('honestly', 0.0): 1, ('felt', 0.0): 2, ('bad', 0.0): 16, ('movie', 0.0): 14, ('surf', 0.0): 1, ('cha', 0.0): 3, ('good', 0.0): 9, ('love', 0.0): 6, ('chose', 0.0): 2, ('theyre', 0.0): 2, ('poorly', 0.0): 1, ('covered', 0.0): 1, ('starlite', 0.0): 2, ('scraped', 0.0): 1, ('whole', 0.0): 6, ('top', 0.0): 3, ('screen', 0.0): 9, ('week', 0.0): 1, ('came', 0.0): 3, ('noticeable', 0.0): 1, ('box', 0.0): 5, ('gigantic', 0.0): 1, ('plenty', 0.0): 1, ('loosely', 0.0): 1, ('since', 0.0): 7, ('smaller', 0.0): 5, ('thinking', 0.0): 1, ('scraping', 0.0): 1, ('begin', 0.0): 2, ('shipping', 0.0): 2, ('whether', 0.0): 2, ('through', 0.0): 5, ('trouble', 0.0): 1, ('reviewer', 0.0): 2, ('said', 0.0): 1, ('had', 0.0): 13, ('same', 0.0): 13, ('damage', 0.0): 3, ('risk', 0.0): 1, ('getting', 0.0): 4, ('really', 0.0): 11, ('right', 0.0): 2, ('other', 0.0): 13, ('than', 0.0): 10, ('nice', 0.0): 5, ('disappointing', 0.0): 1, ('text', 0.0): 1, ('think', 0.0): 5, ('markedly', 0.0): 1, ('inferior', 0.0): 1, ('previous', 0.0): 1, ('known', 0.0): 1, ('ahead', 0.0): 1, ('volume', 0.0): 2, ('bother', 0.0): 3, ('tiny', 0.0): 1, ('poor', 0.0): 14, ('quality', 0.0): 7, ('foam', 0.0): 1, ('year', 0.0): 5, ('old', 0.0): 15, ('better', 0.0): 7, ('did', 0.0): 14, ('new', 0.0): 11, ('what', 0.0): 22, ('sunk', 0.0): 1, ('worst', 0.0): 6, ('game', 0.0): 24, ('daughter', 0.0): 6, ('season', 0.0): 1, ('she', 0.0): 12, ('out', 0.0): 14, ('her', 0.0): 12, ('mind', 0.0): 2, ('hour', 0.0): 2, ('slow', 0.0): 6, ('skippy', 0.0): 1, ('etc', 0.0): 1, ('running', 0.0): 1, ('computer', 0.0): 2, ('skip', 0.0): 2, ('dud', 0.0): 1, ('typographical', 0.0): 1, ('grammar', 0.0): 3, ('totally', 0.0): 1, ('pathetic', 0.0): 1, ('plot', 0.0): 7, ('add', 0.0): 1, ('absolutely', 0.0): 3, ('embarrassed', 0.0): 1, ('author', 0.0): 3, ('disappointed', 0.0): 12, ('dear', 0.0): 1, ('excited', 0.0): 2, ('find', 0.0): 5, ('ostensibly', 0.0): 1, ('about', 0.0): 14, ('feminism', 0.0): 1, ('live', 0.0): 2, ('essay', 0.0): 2, ('among', 0.0): 2, ('veil', 0.0): 1, ('potentially', 0.0): 1, ('explain', 0.0): 1, ('cape', 0.0): 1, ('town', 0.0): 1, ('separate', 0.0): 1, ('equal', 0.0): 1, ('gee', 0.0): 1, ('whiz', 0.0): 1, ('hoped', 0.0): 1, ('feminist', 0.0): 1, ('condemnation', 0.0): 1, ('gender', 0.0): 1, ('apartheid', 0.0): 1, ('female', 0.0): 2, ('genital', 0.0): 1, ('buyer', 0.0): 4, ('beware', 0.0): 7, ('know', 0.0): 8, ('those', 0.0): 6, ('star', 0.0): 8, ('must', 0.0): 5, ('been', 0.0): 15, ('written', 0.0): 7, ('family', 0.0): 2, ('perhaps', 0.0): 3, ('herself', 0.0): 2, ('cant', 0.0): 9, ('imagine', 0.0): 2, ('anyone', 0.0): 7, ('reading', 0.0): 4, ('spent', 0.0): 3, ('evening', 0.0): 1, ('friend', 0.0): 1, ('were', 0.0): 13, ('hysteric', 0.0): 1, ('most', 0.0): 6, ('definitely', 0.0): 2, ('enough', 0.0): 7, ('some', 0.0): 13, ('kind', 0.0): 4, ('contest', 0.0): 1, ('thing', 0.0): 7, ('maybe', 0.0): 6, ('offer', 0.0): 1, ('them', 0.0): 10, ('term', 0.0): 1, ('paper', 0.0): 1, ('kill', 0.0): 1, ('quite', 0.0): 1, ('sure', 0.0): 3, ('anyway', 0.0): 1, ('mood', 0.0): 1, ('send', 0.0): 2, ('someone', 0.0): 2, ('away', 0.0): 2, ('work', 0.0): 13, ('mac', 0.0): 3, ('clearly', 0.0): 1, ('line', 0.0): 2, ('system', 0.0): 1, ('disk', 0.0): 1, ('come', 0.0): 8, ('order', 0.0): 6, ('worked', 0.0): 3, ('fine', 0.0): 2, ('beginning', 0.0): 4, ('performance', 0.0): 4, ('air', 0.0): 4, ('myself', 0.0): 1, ('sleeping', 0.0): 1, ('hand', 0.0): 2, ('leverage', 0.0): 1, ('otherwise', 0.0): 1, ('neck', 0.0): 1, ('awkward', 0.0): 2, ('position', 0.0): 1, ('width', 0.0): 1, ('too', 0.0): 15, ('soft', 0.0): 1, ('rotate', 0.0): 1, ('side', 0.0): 2, ('lay', 0.0): 1, ('therefore', 0.0): 4, ('provide', 0.0): 2, ('support', 0.0): 2, ('awful', 0.0): 3, ('beyond', 0.0): 1, ('belief', 0.0): 1, ('write', 0.0): 1, ('keep', 0.0): 5, ('wasting', 0.0): 1, ('their', 0.0): 7, ('grader', 0.0): 1, ('grammatical', 0.0): 1, ('age', 0.0): 2, ('misspelling', 0.0): 1, ('per', 0.0): 1, ('chapter', 0.0): 1, ('example', 0.0): 2, ('twice', 0.0): 2, ('lean', 0.0): 1, ('house', 0.0): 3, ('distracted', 0.0): 1, ('writing', 0.0): 3, ('weak', 0.0): 2, ('read', 0.0): 9, ('pencil', 0.0): 1, ('mark', 0.0): 1, ('horrible', 0.0): 2, ('spelling', 0.0): 2, ('please', 0.0): 6, ('put', 0.0): 4, ('faith', 0.0): 1, ('rental', 0.0): 1, ('pretty', 0.0): 7, ('exciting', 0.0): 1, ('creative', 0.0): 1, ('castle', 0.0): 3, ('decorate', 0.0): 2, ('once', 0.0): 4, ('done', 0.0): 5, ('basically', 0.0): 3, ('either', 0.0): 4, ('create', 0.0): 1, ('yourself', 0.0): 2, ('sister', 0.0): 1, ('finished', 0.0): 1, ('fun', 0.0): 5, ('worth', 0.0): 3, ('portable', 0.0): 1, ('drive', 0.0): 1, ('constantly', 0.0): 1, ('unsuccessfully', 0.0): 1, ('try', 0.0): 3, ('terrible', 0.0): 2, ('wife', 0.0): 2, ('returned', 0.0): 4, ('got', 0.0): 12, ('player', 0.0): 3, ('piece', 0.0): 3, ('junk', 0.0): 1, ('chart', 0.0): 2, ('real', 0.0): 5, ('tried', 0.0): 4, ('sheer', 0.0): 1, ('guess', 0.0): 2, ('should', 0.0): 7, ('store', 0.0): 2, ('check', 0.0): 2, ('cry', 0.0): 2, ('child', 0.0): 3, ('sobbing', 0.0): 1, ('bedroom', 0.0): 1, ('result', 0.0): 2, ('rotten', 0.0): 1, ('painting', 0.0): 1, ('coloring', 0.0): 1, ('halfway', 0.0): 1, ('program', 0.0): 1, ('hung', 0.0): 1, ('let', 0.0): 3, ('leave', 0.0): 2, ('room', 0.0): 1, ('click', 0.0): 1, ('else', 0.0): 2, ('exit', 0.0): 1, ('then', 0.0): 6, ('start', 0.0): 3, ('frozen', 0.0): 1, ('spot', 0.0): 2, ('voice', 0.0): 1, ('explore', 0.0): 1, ('somewhere', 0.0): 3, ('software', 0.0): 2, ('help', 0.0): 5, ('site', 0.0): 1, ('disabled', 0.0): 1, ('left', 0.0): 4, ('weeping', 0.0): 1, ('who', 0.0): 8, ('understand', 0.0): 3, ('fault', 0.0): 2, ('wont', 0.0): 6, ('incompetent', 0.0): 1, ('catch', 0.0): 1, ('bug', 0.0): 1, ('caught', 0.0): 1, ('around', 0.0): 3, ('care', 0.0): 3, ('long', 0.0): 2, ('our', 0.0): 3, ('little', 0.0): 5, ('girl', 0.0): 1, ('avoid', 0.0): 1, ('cannot', 0.0): 1, ('former', 0.0): 1, ('repeatedly', 0.0): 1, ('flour', 0.0): 1, ('miscellaneous', 0.0): 1, ('nearly', 0.0): 1, ('every', 0.0): 2, ('flawlessly', 0.0): 1, ('lisa', 0.0): 2, ('excellent', 0.0): 3, ('wild', 0.0): 2, ('bread', 0.0): 2, ('artisan', 0.0): 1, ('own', 0.0): 1, ('kitchen', 0.0): 2, ('notice', 0.0): 2, ('novice', 0.0): 1, ('baker', 0.0): 1, ('reliably', 0.0): 1, ('recipe', 0.0): 1, ('found', 0.0): 6, ('looking', 0.0): 3, ('reliable', 0.0): 1, ('concise', 0.0): 1, ('starting', 0.0): 1, ('his', 0.0): 10, ('fabulous', 0.0): 1, ('tome', 0.0): 1, ('pas', 0.0): 2, ('historical', 0.0): 1, ('warrant', 0.0): 1, ('cost', 0.0): 3, ('library', 0.0): 1, ('experience', 0.0): 1, ('rattled', 0.0): 1, ('loudly', 0.0): 1, ('sometimes', 0.0): 1, ('always', 0.0): 3, ('several', 0.0): 3, ('horizontal', 0.0): 2, ('middle', 0.0): 2, ('short', 0.0): 2, ('plus', 0.0): 2, ('dead', 0.0): 2, ('remote', 0.0): 4, ('layout', 0.0): 1, ('sense', 0.0): 3, ('human', 0.0): 1, ('engineering', 0.0): 1, ('brought', 0.0): 1, ('saw', 0.0): 1, ('model', 0.0): 1, ('name', 0.0): 4, ('hesitant', 0.0): 1, ('numbing', 0.0): 1, ('son', 0.0): 2, ('attention', 0.0): 1, ('next', 0.0): 2, ('level', 0.0): 4, ('choice', 0.0): 3, ('rescue', 0.0): 1, ('dog', 0.0): 1, ('figure', 0.0): 6, ('doing', 0.0): 1, ('anything', 0.0): 5, ('hot', 0.0): 3, ('internet', 0.0): 1, ('problem', 0.0): 5, ('dip', 0.0): 1, ('boiling', 0.0): 2, ('temperature', 0.0): 1, ('above', 0.0): 3, ('call', 0.0): 1, ('second', 0.0): 1, ('describe', 0.0): 1, ('happen', 0.0): 2, ('image', 0.0): 1, ('shrink', 0.0): 1, ('egg', 0.0): 1, ('transfer', 0.0): 1, ('minute', 0.0): 1, ('intelligent', 0.0): 1, ('immediately', 0.0): 1, ('thought', 0.0): 9, ('change', 0.0): 3, ('plastic', 0.0): 2, ('explicit', 0.0): 1, ('version', 0.0): 9, ('formula', 0.0): 5, ('formulation', 0.0): 1, ('loreal', 0.0): 3, ('hold', 0.0): 2, ('hair', 0.0): 1, ('smell', 0.0): 1, ('pic', 0.0): 1, ('bottle', 0.0): 2, ('similar', 0.0): 3, ('sticky', 0.0): 1, ('potion', 0.0): 1, ('wish', 0.0): 4, ('effect', 0.0): 1, ('comment', 0.0): 1, ('review', 0.0): 6, ('cardboard', 0.0): 2, ('beat', 0.0): 1, ('itself', 0.0): 2, ('lightweight', 0.0): 1, ('cheesy', 0.0): 2, ('finish', 0.0): 1, ('worn', 0.0): 1, ('entire', 0.0): 2, ('knew', 0.0): 2, ('solid', 0.0): 1, ('brass', 0.0): 1, ('something', 0.0): 3, ('decent', 0.0): 4, ('distance', 0.0): 1, ('price', 0.0): 3, ('yet', 0.0): 3, ('unsubstantiated', 0.0): 2, ('case', 0.0): 1, ('discrimination', 0.0): 1, ('certainly', 0.0): 1, ('smear', 0.0): 1, ('campaign', 0.0): 1, ('rally', 0.0): 3, ('higher', 0.0): 1, ('claw', 0.0): 1, ('preservation', 0.0): 1, ('academic', 0.0): 1, ('freedom', 0.0): 1, ('flat', 0.0): 1, ('production', 0.0): 5, ('possible', 0.0): 1, ('broadway', 0.0): 1, ('archive', 0.0): 1, ('took', 0.0): 2, ('sparkling', 0.0): 1, ('ruined', 0.0): 1, ('intentionally', 0.0): 1, ('absurd', 0.0): 1, ('blanket', 0.0): 1, ('acting', 0.0): 2, ('way', 0.0): 6, ('incidental', 0.0): 1, ('worse', 0.0): 1, ('combination', 0.0): 1, ('pop', 0.0): 3, ('renaissance', 0.0): 1, ('modern', 0.0): 2, ('century', 0.0): 1, ('director', 0.0): 1, ('goal', 0.0): 1, ('showing', 0.0): 1, ('silly', 0.0): 4, ('fusty', 0.0): 1, ('school', 0.0): 2, ('scandal', 0.0): 1, ('intention', 0.0): 1, ('keeping', 0.0): 1, ('recording', 0.0): 1, ('extended', 0.0): 1, ('drinking', 0.0): 1, ('song', 0.0): 1, ('scene', 0.0): 1, ('sit', 0.0): 1, ('blurry', 0.0): 1, ('play', 0.0): 8, ('brand', 0.0): 2, ('steer', 0.0): 1, ('clear', 0.0): 1, ('fusion', 0.0): 2, ('secret', 0.0): 1, ('world', 0.0): 1, ('taking', 0.0): 1, ('joe', 0.0): 1, ('listening', 0.0): 1, ('session', 0.0): 2, ('hell', 0.0): 1, ('him', 0.0): 4, ('yes', 0.0): 1, ('fool', 0.0): 1, ('fake', 0.0): 3, ('glaringly', 0.0): 1, ('obvious', 0.0): 1, ('glowing', 0.0): 1, ('person', 0.0): 3, ('sentence', 0.0): 1, ('structure', 0.0): 1, ('featured', 0.0): 1, ('made', 0.0): 1, ('professional', 0.0): 1, ('tape', 0.0): 7, ('unprofessional', 0.0): 1, ('bootleg', 0.0): 1, ('capable', 0.0): 1, ('recall', 0.0): 3, ('function', 0.0): 2, ('flash', 0.0): 1, ('between', 0.0): 1, ('universal', 0.0): 1, ('button', 0.0): 4, ('soon', 0.0): 2, ('learned', 0.0): 1, ('factory', 0.0): 1, ('capability', 0.0): 1, ('big', 0.0): 4, ('deal', 0.0): 3, ('user', 0.0): 1, ('annoying', 0.0): 2, ('home', 0.0): 4, ('story', 0.0): 4, ('tell', 0.0): 1, ('punk', 0.0): 1, ('rock', 0.0): 2, ('drew', 0.0): 2, ('idea', 0.0): 3, ('why', 0.0): 3, ('boy', 0.0): 1, ('draw', 0.0): 1, ('already', 0.0): 2, ('casually', 0.0): 1, ('law', 0.0): 1, ('everything', 0.0): 3, ('seriously', 0.0): 1, ('small', 0.0): 3, ('fit', 0.0): 1, ('specific', 0.0): 1, ('vehicle', 0.0): 1, ('correct', 0.0): 3, ('mat', 0.0): 2, ('exact', 0.0): 1, ('duplicate', 0.0): 1, ('seem', 0.0): 1, ('opinion', 0.0): 3, ('angle', 0.0): 1, ('clean', 0.0): 1, ('shed', 0.0): 1, ('light', 0.0): 1, ('rest', 0.0): 1, ('tourist', 0.0): 1, ('tour', 0.0): 1, ('country', 0.0): 1, ('forgotten', 0.0): 2, ('use', 0.0): 4, ('reference', 0.0): 3, ('travel', 0.0): 1, ('exclude', 0.0): 1, ('before', 0.0): 4, ('precision', 0.0): 1, ('detail', 0.0): 1, ('series', 0.0): 3, ('disappointment', 0.0): 2, ('three', 0.0): 2, ('touched', 0.0): 1, ('able', 0.0): 3, ('mouse', 0.0): 1, ('except', 0.0): 1, ('keyboard', 0.0): 1, ('hard', 0.0): 2, ('superb', 0.0): 1, ('serious', 0.0): 1, ('disservice', 0.0): 1, ('improperly', 0.0): 1, ('traditional', 0.0): 1, ('timber', 0.0): 3, ('framing', 0.0): 1, ('look', 0.0): 3, ('further', 0.0): 1, ('pick', 0.0): 2, ('print', 0.0): 1, ('titled', 0.0): 1, ('debacle', 0.0): 1, ('ridiculous', 0.0): 2, ('wonder', 0.0): 1, ('script', 0.0): 1, ('making', 0.0): 1, ('film', 0.0): 3, ('mountain', 0.0): 2, ('lion', 0.0): 2, ('trailer', 0.0): 1, ('behind', 0.0): 1, ('jail', 0.0): 1, ('cell', 0.0): 1, ('utterly', 0.0): 1, ('completely', 0.0): 1, ('stupid', 0.0): 2, ('substitute', 0.0): 3, ('vendor', 0.0): 1, ('feedback', 0.0): 2, ('rate', 0.0): 2, ('future', 0.0): 2, ('watch', 0.0): 3, ('simple', 0.0): 1, ('response', 0.0): 2, ('spend', 0.0): 2, ('month', 0.0): 1, ('collection', 0.0): 2, ('careful', 0.0): 1, ('audio', 0.0): 4, ('compatible', 0.0): 2, ('machine', 0.0): 2, ('deeply', 0.0): 2, ('arcade', 0.0): 3, ('dance', 0.0): 10, ('stage', 0.0): 2, ('revolution', 0.0): 2, ('equivalent', 0.0): 2, ('many', 0.0): 6, ('difficult', 0.0): 2, ('unheard', 0.0): 2, ('here', 0.0): 2, ('enjoyable', 0.0): 2, ('moving', 0.0): 1, ('jam', 0.0): 1, ('video', 0.0): 1, ('radio', 0.0): 1, ('pedantic', 0.0): 1, ('situation', 0.0): 2, ('lucky', 0.0): 2, ('wave', 0.0): 2, ('prior', 0.0): 1, ('record', 0.0): 2, ('although', 0.0): 2, ('sung', 0.0): 1, ('true', 0.0): 1, ('total', 0.0): 2, ('bright', 0.0): 1, ('prompt', 0.0): 1, ('molly', 0.0): 2, ('corrie', 0.0): 1, ('ism', 0.0): 3, ('organization', 0.0): 1, ('nonviolence', 0.0): 1, ('radical', 0.0): 1, ('propaganda', 0.0): 1, ('regularly', 0.0): 2, ('hide', 0.0): 1, ('perfectly', 0.0): 1, ('willing', 0.0): 1, ('violence', 0.0): 1, ('sabotage', 0.0): 1, ('wall', 0.0): 1, ('intended', 0.0): 1, ('innocent', 0.0): 1, ('murdering', 0.0): 1, ('disregard', 0.0): 1, ('extreme', 0.0): 1, ('sounding', 0.0): 2, ('sing', 0.0): 1, ('hearing', 0.0): 1, ('cheap', 0.0): 1, ('might', 0.0): 2, ('fan', 0.0): 3, ('amazing', 0.0): 1, ('produced', 0.0): 1, ('copper', 0.0): 1, ('pipe', 0.0): 1, ('take', 0.0): 1, ('sell', 0.0): 1, ('boring', 0.0): 2, ('ice', 0.0): 1, ('skating', 0.0): 1, ('gymnastics', 0.0): 1, ('absolute', 0.0): 1, ('graphic', 0.0): 1, ('simplistic', 0.0): 1, ('strive', 0.0): 1, ('onto', 0.0): 1, ('enjoyment', 0.0): 1, ('non', 0.0): 3, ('existent', 0.0): 2, ('expect', 0.0): 2, ('option', 0.0): 1, ('disc', 0.0): 2, ('menu', 0.0): 1, ('stated', 0.0): 1, ('package', 0.0): 1, ('exist', 0.0): 1, ('matter', 0.0): 1, ('choose', 0.0): 1, ('dubbing', 0.0): 2, ('title', 0.0): 3, ('sub', 0.0): 1, ('par', 0.0): 1, ('remain', 0.0): 1, ('see', 0.0): 2, ('inside', 0.0): 1, ('shame', 0.0): 3, ('sham', 0.0): 1, ('offering', 0.0): 1, ('shock', 0.0): 1, ('uncomfortable', 0.0): 2, ('pant', 0.0): 1, ('incredibly', 0.0): 1, ('stiff', 0.0): 3, ('wear', 0.0): 1, ('day', 0.0): 5, ('content', 0.0): 1, ('sole', 0.0): 1, ('occupant', 0.0): 1, ('island', 0.0): 2, ('colin', 0.0): 3, ('ashore', 0.0): 1, ('life', 0.0): 4, ('solitude', 0.0): 1, ('shaken', 0.0): 1, ('told', 0.0): 1, ('fear', 0.0): 1, ('strange', 0.0): 1, ('men', 0.0): 1, ('reluctantly', 0.0): 1, ('friendship', 0.0): 1, ('courage', 0.0): 1, ('amusing', 0.0): 1, ('believability', 0.0): 1, ('mostly', 0.0): 1, ('due', 0.0): 2, ('characterization', 0.0): 1, ('sided', 0.0): 1, ('behavior', 0.0): 1, ('reason', 0.0): 1, ('development', 0.0): 1, ('tracked', 0.0): 1, ('relationship', 0.0): 1, ('forced', 0.0): 1, ('improve', 0.0): 1, ('towards', 0.0): 1, ('save', 0.0): 2, ('heart', 0.0): 1, ('watched', 0.0): 1, ('night', 0.0): 2, ('remember', 0.0): 2, ('people', 0.0): 2, ('nor', 0.0): 2, ('killer', 0.0): 2, ('supernatural', 0.0): 1, ('guy', 0.0): 2, ('place', 0.0): 1, ('neither', 0.0): 3, ('gory', 0.0): 1, ('challenge', 0.0): 1, ('interaction', 0.0): 1, ('essentially', 0.0): 2, ('profound', 0.0): 1, ('truly', 0.0): 1, ('narrative', 0.0): 1, ('style', 0.0): 5, ('famous', 0.0): 1, ('biographer', 0.0): 1, ('morse', 0.0): 3, ('arrogant', 0.0): 1, ('flippant', 0.0): 1, ('frequently', 0.0): 1, ('exaggerated', 0.0): 1, ('tone', 0.0): 1, ('amateur', 0.0): 1, ('historian', 0.0): 1, ('high', 0.0): 2, ('passing', 0.0): 1, ('judgment', 0.0): 1, ('statesman', 0.0): 1, ('boston', 0.0): 1, ('graduate', 0.0): 1, ('considered', 0.0): 1, ('penetrating', 0.0): 1, ('today', 0.0): 1, ('research', 0.0): 1, ('thin', 0.0): 2, ('conclude', 0.0): 1, ('wrote', 0.0): 2, ('manuscript', 0.0): 1, ('memory', 0.0): 1, ('primary', 0.0): 1, ('secondary', 0.0): 1, ('werent', 0.0): 1, ('ago', 0.0): 4, ('rated', 0.0): 2, ('freezing', 0.0): 1, ('issue', 0.0): 1, ('smoothing', 0.0): 3, ('serum', 0.0): 4, ('particular', 0.0): 1, ('trial', 0.0): 1, ('barber', 0.0): 2, ('extra', 0.0): 1, ('lose', 0.0): 1, ('somehow', 0.0): 1, ('double', 0.0): 1, ('amount', 0.0): 1, ('knock', 0.0): 1, ('official', 0.0): 1, ('trigger', 0.0): 1, ('major', 0.0): 1, ('caveat', 0.0): 1, ('emptor', 0.0): 1, ('green', 0.0): 1, ('red', 0.0): 1, ('counterfeit', 0.0): 1, ('serial', 0.0): 1, ('charger', 0.0): 2, ('convenient', 0.0): 1, ('charging', 0.0): 2, ('four', 0.0): 4, ('charge', 0.0): 2, ('longer', 0.0): 1, ('kodak', 0.0): 1, ('gardening', 0.0): 1, ('lawn', 0.0): 1, ('missing', 0.0): 2, ('husband', 0.0): 1, ('fortunately', 0.0): 1, ('copy', 0.0): 1, ('hesitate', 0.0): 1, ('laugh', 0.0): 1, ('funny', 0.0): 1, ('unintentionally', 0.0): 1, ('free', 0.0): 1, ('sex', 0.0): 1, ('perfect', 0.0): 1, ('coda', 0.0): 1, ('couple', 0.0): 1, ('stuff', 0.0): 1, ('cake', 0.0): 4, ('topper', 0.0): 5, ('june', 0.0): 1, ('given', 0.0): 1, ('date', 0.0): 1, ('went', 0.0): 2, ('claim', 0.0): 1, ('mishap', 0.0): 1, ('loading', 0.0): 1, ('lot', 0.0): 2, ('wait', 0.0): 1, ('finally', 0.0): 1, ('skater', 0.0): 1, ('skate', 0.0): 2, ('kept', 0.0): 2, ('watching', 0.0): 1, ('beautifully', 0.0): 1, ('interactive', 0.0): 1, ('consider', 0.0): 1, ('space', 0.0): 2, ('saving', 0.0): 1, ('joke', 0.0): 1, ('sending', 0.0): 1, ('close', 0.0): 2, ('head', 0.0): 1, ('giving', 0.0): 2, ('post', 0.0): 1, ('negative', 0.0): 1, ('guitar', 0.0): 2, ('respect', 0.0): 1, ('ambient', 0.0): 1, ('whatsoever', 0.0): 1, ('album', 0.0): 1, ('fish', 0.0): 1, ('rising', 0.0): 1, ('darn', 0.0): 1, ('guitarist', 0.0): 1, ('showcase', 0.0): 1, ('utopia', 0.0): 1, ('backing', 0.0): 1, ('highly', 0.0): 1, ('direction', 0.0): 1, ('taken', 0.0): 1, ('unmasked', 0.0): 1, ('sadly', 0.0): 1, ('shamelessly', 0.0): 1, ('practically', 0.0): 1, ('everyone', 0.0): 1, ('turning', 0.0): 1, ('stale', 0.0): 1, ('purely', 0.0): 1, ('elevated', 0.0): 1, ('standard', 0.0): 2, ('weekend', 0.0): 2, ('history', 0.0): 2, ('run', 0.0): 2, ('mill', 0.0): 1, ('maniac', 0.0): 1, ('unimaginative', 0.0): 1, ('course', 0.0): 2, ('until', 0.0): 3, ('late', 0.0): 1, ('exactly', 0.0): 1, ('cue', 0.0): 1, ('safe', 0.0): 1, ('brief', 0.0): 1, ('appearance', 0.0): 1, ('horror', 0.0): 2, ('icon', 0.0): 1, ('dullness', 0.0): 1, ('misnomer', 0.0): 1, ('favorite', 0.0): 1, ('drying', 0.0): 2, ('paint', 0.0): 2, ('pay', 0.0): 1, ('smelled', 0.0): 1, ('mother', 0.0): 1, ('ludicrous', 0.0): 1, ('faintly', 0.0): 1, ('entertain', 0.0): 1, ('odd', 0.0): 1, ('courtroom', 0.0): 1, ('basic', 0.0): 2, ('crime', 0.0): 1, ('reveal', 0.0): 2, ('crucial', 0.0): 1, ('quickly', 0.0): 2, ('unbelievable', 0.0): 1, ('wondering', 0.0): 1, ('based', 0.0): 1, ('ending', 0.0): 1, ('detective', 0.0): 1, ('appear', 0.0): 1, ('rather', 0.0): 1, ('enjoy', 0.0): 2, ('unfolded', 0.0): 1, ('different', 0.0): 1, ('fast', 0.0): 1, ('camera', 0.0): 1, ('open', 0.0): 1, ('included', 0.0): 3, ('closed', 0.0): 1, ('useless', 0.0): 1, ('alphabet', 0.0): 1, ('twin', 0.0): 1, ('learning', 0.0): 1, ('tool', 0.0): 1, ('teething', 0.0): 1, ('toy', 0.0): 1, ('fisher', 0.0): 1, ('outrun', 0.0): 2, ('biggest', 0.0): 1, ('youve', 0.0): 1, ('sink', 0.0): 1, ('meant', 0.0): 1, ('addicted', 0.0): 1, ('follower', 0.0): 1, ('race', 0.0): 1, ('car', 0.0): 2, ('racing', 0.0): 1, ('battlefield', 0.0): 1, ('landscape', 0.0): 1, ('idiotic', 0.0): 1, ('impress', 0.0): 1, ('rubbish', 0.0): 1, ('mine', 0.0): 1, ('shipped', 0.0): 1, ('costly', 0.0): 1, ('huge', 0.0): 1, ('flip', 0.0): 2, ('down', 0.0): 2, ('positive', 0.0): 1, ('mechanism', 0.0): 1, ('loose', 0.0): 1, ('pressure', 0.0): 1, ('push', 0.0): 1, ('duct', 0.0): 1, ('segment', 0.0): 1, ('crayon', 0.0): 2, ('apply', 0.0): 1, ('wrap', 0.0): 1, ('painful', 0.0): 1, ('aint', 0.0): 1, ('broke', 0.0): 1, ('fix', 0.0): 1, ('wonderful', 0.0): 1, ('slightly', 0.0): 1, ('taller', 0.0): 1, ('perfume', 0.0): 1, ('gift', 0.0): 1, ('recipient', 0.0): 1, ('frame', 0.0): 1, ('vaguely', 0.0): 1, ('mortise', 0.0): 1, ('tenon', 0.0): 1, ('fascinating', 0.0): 1, ('practical', 0.0): 1, ('builder', 0.0): 1, ('agree', 0.0): 1, ('impossible', 0.0): 1, ('without', 0.0): 1, ('native', 0.0): 1, ('speaker', 0.0): 1, ('design', 0.0): 1, ('teach', 0.0): 1, ('vocabulary', 0.0): 1, ('ariel', 0.0): 2, ('mermaid', 0.0): 1, ('pearl', 0.0): 1, ('kit', 0.0): 1, ('cute', 0.0): 1, ('dull', 0.0): 3, ('classical', 0.0): 2, ('young', 0.0): 1, ('bateman', 0.0): 1, ('lead', 0.0): 1, ('relief', 0.0): 1, ('background', 0.0): 1, ('minimum', 0.0): 1, ('though', 0.0): 1, ('suggest', 0.0): 1, ('skipping', 0.0): 1, ('mask', 0.0): 3, ('familiarity', 0.0): 1, ('maker', 0.0): 3, ('cinematic', 0.0): 1, ('path', 0.0): 1, ('often', 0.0): 1, ('traveled', 0.0): 1, ('typically', 0.0): 1, ('predictable', 0.0): 1, ('fashion', 0.0): 1, ('revenge', 0.0): 1, ('unstoppable', 0.0): 1, ('skinned', 0.0): 1, ('achieve', 0.0): 1, ('beauty', 0.0): 1, ('motivation', 0.0): 1, ('attempt', 0.0): 1, ('elicit', 0.0): 1, ('entry', 0.0): 1, ('familiar', 0.0): 1, ('territory', 0.0): 1, ('tread', 0.0): 1, ('cast', 0.0): 1, ('competence', 0.0): 1, ('terry', 0.0): 1, ('effective', 0.0): 1, ('buffoon', 0.0): 1, ('treat', 0.0): 1, ('cameo', 0.0): 1, ('role', 0.0): 4, ('vet', 0.0): 1, ('unusually', 0.0): 1, ('restrained', 0.0): 1, ('lee', 0.0): 1, ('leading', 0.0): 1, ('typical', 0.0): 1, ('survivor', 0.0): 1, ('resilient', 0.0): 1, ('resourceful', 0.0): 1, ('fiance', 0.0): 1, ('sic', 0.0): 1, ('equally', 0.0): 1, ('finale', 0.0): 1, ('caution', 0.0): 1, ('irrelevant', 0.0): 1}\n"
          ],
          "name": "stdout"
        }
      ]
    },
    {
      "cell_type": "code",
      "metadata": {
        "colab": {
          "base_uri": "https://localhost:8080/"
        },
        "id": "Se-wQCzFQ6nl",
        "outputId": "b8a2147c-a938-4ba5-ec41-917f96900744"
      },
      "source": [
        "words = Counter() #Dictionary that will map a word to the number of times it appeared in all the training sentences\n",
        "for  sentence in final_reviews:\n",
        "    #The sentences will be stored as a list of words/tokens\n",
        "    \n",
        "    for word in sentence.split():\n",
        "        words.update([word.lower()]) #Converting all the words to lower case\n",
        "        \n",
        "    \n",
        "        \n",
        "\n",
        "\n",
        "print(words)\n",
        "\n",
        "# Sorting the words according to the number of appearances, with the most common word being first\n",
        "words = sorted(words, key=words.get, reverse=True)\n",
        "# Adding padding and unknown to our vocabulary so that they will be assigned an index\n",
        "words = ['_PAD','_UNK'] + words\n",
        "# Dictionaries to store the word to index mappings and vice versa\n",
        "word2idx = {o:i for i,o in enumerate(words)}\n",
        "idx2word = {i:o for i,o in enumerate(words)}\n"
      ],
      "execution_count": 30,
      "outputs": [
        {
          "output_type": "stream",
          "text": [
            "Counter({'the': 744, 'and': 377, 'this': 250, 'for': 149, 'not': 132, 'that': 121, 'you': 120, 'but': 104, 'are': 103, 'have': 97, 'book': 87, 'with': 84, 'one': 77, 'from': 65, 'very': 64, 'they': 54, 'all': 53, 'what': 48, 'great': 48, 'game': 47, 'she': 47, 'like': 45, 'would': 42, 'them': 40, 'get': 39, 'just': 38, 'can': 36, 'good': 35, 'time': 35, 'out': 34, 'some': 34, 'your': 34, 'dont': 33, 'who': 33, 'old': 33, 'her': 33, 'read': 32, 'had': 31, 'when': 31, 'because': 31, 'there': 31, 'even': 30, 'these': 29, 'about': 28, 'more': 28, 'too': 27, 'will': 27, 'only': 26, 'love': 26, 'been': 26, 'much': 26, 'now': 26, 'other': 24, 'music': 24, 'work': 23, 'cant': 22, 'really': 22, 'got': 22, 'again': 21, 'his': 21, 'also': 21, 'movie': 21, 'product': 20, 'little': 20, 'never': 19, 'daughter': 19, 'any': 19, 'buy': 19, 'which': 19, 'over': 19, 'did': 19, 'bought': 18, 'could': 18, 'bad': 18, 'year': 18, 'fun': 18, 'make': 18, 'where': 18, 'than': 18, 'most': 18, 'well': 17, 'best': 17, 'another': 17, 'know': 17, 'back': 16, 'him': 16, 'new': 16, 'original': 15, 'want': 15, 'money': 15, 'were': 15, 'many': 15, 'after': 15, 'doe': 15, 'same': 15, 'doesnt': 15, 'lot': 14, 'easy': 14, 'how': 14, 'then': 14, 'into': 14, 'their': 14, 'come': 14, 'waste': 14, 'poor': 14, 'henry': 13, 'first': 13, 'didnt': 13, 'however': 13, 'play': 13, 'think': 13, 'big': 13, 'disappointed': 13, 'while': 13, 'since': 12, 'day': 12, 'worth': 12, 'say': 12, 'better': 12, 'pretty': 12, 'recommend': 12, 'use': 12, 'still': 12, 'anyone': 12, 'box': 12, 'used': 12, 'dance': 12, 'find': 12, 'thought': 11, 'ever': 11, 'found': 11, 'those': 11, 'enough': 11, 'people': 11, 'every': 11, 'quality': 11, 'going': 11, 'received': 11, 'actually': 11, 'life': 11, 'version': 11, 'our': 11, 'pillow': 11, 'off': 10, 'need': 10, 'excellent': 10, 'home': 10, 'least': 10, 'look': 10, 'end': 10, 'give': 10, 'whole': 10, 'written': 10, 'able': 10, 'theyre': 10, 'keep': 10, 'baseball': 10, 'story': 10, 'should': 10, 'thing': 10, 'nothing': 10, 'believe': 9, 'problem': 9, 'around': 9, 'two': 9, 'help': 9, 'album': 9, 'everything': 9, 'each': 9, 'few': 9, 'young': 9, 'inside': 9, 'amazing': 9, 'reading': 9, 'bit': 9, 'last': 9, 'real': 9, 'ordered': 9, 'star': 9, 'screen': 9, 'timber': 8, 'audio': 8, 'remote': 8, 'player': 8, 'price': 8, 'top': 8, 'single': 8, 'fact': 8, 'put': 8, 'before': 8, 'through': 8, 'both': 8, 'happy': 8, 'song': 8, 'way': 8, 'information': 8, 'wont': 8, 'may': 8, 'wasnt': 8, 'plot': 8, 'nice': 7, 'picture': 7, 'hear': 7, 'high': 7, 'getting': 7, 'down': 7, 'such': 7, 'cool': 7, 'set': 7, 'until': 7, 'yet': 7, 'kind': 7, 'house': 7, 'man': 7, 'size': 7, 'sure': 7, 'once': 7, 'here': 7, 'family': 7, 'child': 7, 'order': 7, 'review': 7, 'ago': 7, 'always': 7, 'figure': 7, 'production': 7, 'cereal': 7, 'tried': 7, 'wish': 7, 'worst': 7, 'favorite': 7, 'maybe': 7, 'seen': 7, 'please': 7, 'water': 7, 'beware': 7, 'tape': 7, 'long': 6, 'knew': 6, 'frame': 6, 'right': 6, 'sound': 6, 'move': 6, 'feel': 6, 'far': 6, 'listen': 6, 'four': 6, 'girl': 6, 'age': 6, 'castle': 6, 'almost': 6, 'although': 6, 'romance': 6, 'something': 6, 'cute': 6, 'decided': 6, 'title': 6, 'son': 6, 'mind': 6, 'see': 6, 'start': 6, 'wrong': 6, 'unless': 6, 'understand': 6, 'probably': 6, 'company': 6, 'sent': 6, 'seller': 6, 'must': 6, 'colin': 6, 'series': 6, 'fan': 6, 'smaller': 6, 'software': 6, 'instead': 6, 'various': 6, 'across': 6, 'wouldnt': 6, 'slow': 6, 'excited': 5, 'full': 5, 'wonderful': 5, 'away': 5, 'next': 5, 'fine': 5, 'deal': 5, 'definitely': 5, 'difficult': 5, 'wear': 5, 'wait': 5, 'three': 5, 'highly': 5, 'hard': 5, 'color': 5, 'building': 5, 'learn': 5, 'several': 5, 'enjoy': 5, 'parade': 5, 'graphic': 5, 'came': 5, 'room': 5, 'live': 5, 'travel': 5, 'rest': 5, 'dog': 5, 'took': 5, 'between': 5, 'writing': 5, 'made': 5, 'left': 5, 'complete': 5, 'rock': 5, 'return': 5, 'mask': 5, 'maker': 5, 'watch': 5, 'under': 5, 'looking': 5, 'choice': 5, 'horror': 5, 'film': 5, 'sometimes': 5, 'toy': 5, 'missing': 5, 'hair': 5, 'serum': 5, 'button': 5, 'foot': 5, 'cover': 5, 'done': 5, 'anything': 5, 'formula': 5, 'style': 5, 'topper': 5, 'remember': 4, 'gone': 4, 'sharp': 4, 'gave': 4, 'later': 4, 'system': 4, 'store': 4, 'radio': 4, 'behind': 4, 'learning': 4, 'boring': 4, 'pick': 4, 'said': 4, 'world': 4, 'side': 4, 'quick': 4, 'response': 4, 'control': 4, 'build': 4, 'own': 4, 'wanting': 4, 'cable': 4, 'tell': 4, 'run': 4, 'though': 4, 'quite': 4, 'fascinating': 4, 'modern': 4, 'view': 4, 'culture': 4, 'true': 4, 'seem': 4, 'author': 4, 'making': 4, 'enjoyable': 4, 'else': 4, 'party': 4, 'hold': 4, 'place': 4, 'might': 4, 'kitchen': 4, 'herself': 4, 'perfect': 4, 'grammar': 4, 'why': 4, 'attention': 4, 'second': 4, 'etc': 4, 'person': 4, 'dull': 4, 'guess': 4, 'bottle': 4, 'youve': 4, 'white': 4, 'expect': 4, 'small': 4, 'entire': 4, 'soft': 4, 'hot': 4, 'memory': 4, 'gift': 4, 'combination': 4, 'already': 4, 'paint': 4, 'mouse': 4, 'alphabet': 4, 'worked': 4, 'half': 4, 'purchase': 4, 'try': 4, 'absolutely': 4, 'non': 4, 'smoothing': 4, 'let': 4, 'awkward': 4, 'item': 4, 'refund': 4, 'buyer': 4, 'beginning': 4, 'performance': 4, 'air': 4, 'therefore': 4, 'either': 4, 'returned': 4, 'name': 4, 'level': 4, 'decent': 4, 'silly': 4, 'cake': 4, 'role': 4, 'manual': 3, 'running': 3, 'input': 3, 'older': 3, 'begin': 3, 'couple': 3, 'reason': 3, 'value': 3, 'case': 3, 'save': 3, 'hand': 3, 'negative': 3, 'show': 3, 'human': 3, 'light': 3, 'space': 3, 'design': 3, 'due': 3, 'husband': 3, 'wife': 3, 'guide': 3, 'fast': 3, 'boy': 3, 'twist': 3, 'turn': 3, 'happen': 3, 'night': 3, 'different': 3, 'car': 3, 'longer': 3, 'video': 3, 'ill': 3, 'available': 3, 'whether': 3, 'minute': 3, 'beautifully': 3, 'teen': 3, 'japan': 3, 'clearly': 3, 'label': 3, 'course': 3, 'wild': 3, 'southern': 3, 'completely': 3, 'yes': 3, 'wooden': 3, 'ready': 3, 'final': 3, 'soon': 3, 'total': 3, 'museum': 3, 'friend': 3, 'saw': 3, 'teach': 3, 'often': 3, 'short': 3, 'someone': 3, 'giving': 3, 'perfectly': 3, 'especially': 3, 'totally': 3, 'band': 3, 'notice': 3, 'sheer': 3, 'head': 3, 'collection': 3, 'told': 3, 'nor': 3, 'take': 3, 'library': 3, 'simple': 3, 'wondering': 3, 'guy': 3, 'keeping': 3, 'alive': 3, 'beautiful': 3, 'hell': 3, 'clear': 3, 'filled': 3, 'among': 3, 'check': 3, 'late': 3, 'record': 3, 'reviewer': 3, 'local': 3, 'site': 3, 'historical': 3, 'dead': 3, 'novel': 3, 'felt': 3, 'computer': 3, 'thank': 3, 'quickly': 3, 'finally': 3, 'school': 3, 'pet': 3, 'toe': 3, 'decorate': 3, 'fish': 3, 'being': 3, 'without': 3, 'kept': 3, 'track': 3, 'creative': 3, 'plus': 3, 'rated': 3, 'anywhere': 3, 'compression': 3, 'support': 3, 'match': 3, 'wrote': 3, 'twice': 3, 'standard': 3, 'guitar': 3, 'based': 3, 'mistake': 3, 'description': 3, 'throw': 3, 'trying': 3, 'currently': 3, 'proper': 3, 'cha': 3, 'damage': 3, 'bother': 3, 'perhaps': 3, 'spent': 3, 'mac': 3, 'awful': 3, 'basically': 3, 'piece': 3, 'somewhere': 3, 'care': 3, 'cost': 3, 'sense': 3, 'above': 3, 'change': 3, 'loreal': 3, 'similar': 3, 'rally': 3, 'pop': 3, 'fake': 3, 'recall': 3, 'idea': 3, 'correct': 3, 'opinion': 3, 'reference': 3, 'substitute': 3, 'arcade': 3, 'ism': 3, 'shame': 3, 'stiff': 3, 'neither': 3, 'morse': 3, 'included': 3, 'nobody': 2, 'talking': 2, 'worn': 2, 'defective': 2, 'number': 2, 'week': 2, 'loud': 2, 'barely': 2, 'jack': 2, 'speaker': 2, 'lightweight': 2, 'bonus': 2, 'thigh': 2, 'create': 2, 'skin': 2, 'spice': 2, 'country': 2, 'format': 2, 'finding': 2, 'skater': 2, 'plenty': 2, 'eye': 2, 'sparkling': 2, 'ice': 2, 'god': 2, 'turned': 2, 'flat': 2, 'built': 2, 'saving': 2, 'learned': 2, 'fall': 2, 'animation': 2, 'except': 2, 'moving': 2, 'unfortunately': 2, 'odd': 2, 'mix': 2, 'absolute': 2, 'taking': 2, 'mood': 2, 'havent': 2, 'exact': 2, 'count': 2, 'forget': 2, 'purely': 2, 'scar': 2, 'radical': 2, 'insight': 2, 'thoroughly': 2, 'rising': 2, 'community': 2, 'early': 2, 'dad': 2, 'jay': 2, 'starting': 2, 'satisfied': 2, 'awesome': 2, 'advertisement': 2, 'spin': 2, 'type': 2, 'meant': 2, 'knocking': 2, 'banging': 2, 'profound': 2, 'hasta': 2, 'con': 2, 'hope': 2, 'coming': 2, 'gotten': 2, 'truly': 2, 'trip': 2, 'background': 2, 'via': 2, 'forgot': 2, 'educational': 2, 'scene': 2, 'whale': 2, 'beyond': 2, 'research': 2, 'communication': 2, 'state': 2, 'sea': 2, 'team': 2, 'interaction': 2, 'special': 2, 'effect': 2, 'particular': 2, 'leaf': 2, 'hopefully': 2, 'add': 2, 'job': 2, 'general': 2, 'avoid': 2, 'factor': 2, 'medium': 2, 'skating': 2, 'alike': 2, 'debut': 2, 'power': 2, 'release': 2, 'practically': 2, 'neck': 2, 'past': 2, 'exhibit': 2, 'genealogy': 2, 'sit': 2, 'ghetto': 2, 'certainly': 2, 'interested': 2, 'holocaust': 2, 'diary': 2, 'part': 2, 'charisma': 2, 'word': 2, 'none': 2, 'touched': 2, 'daddy': 2, 'granddaughter': 2, 'breakfast': 2, 'eat': 2, 'crave': 2, 'honey': 2, 'taste': 2, 'option': 2, 'official': 2, 'sad': 2, 'jam': 2, 'happening': 2, 'sadly': 2, 'classic': 2, 'steer': 2, 'typical': 2, 'tree': 2, 'curious': 2, 'wow': 2, 'revenge': 2, 'open': 2, 'fat': 2, 'class': 2, 'rich': 2, 'church': 2, 'produced': 2, 'feeling': 2, 'voice': 2, 'along': 2, 'shore': 2, 'isle': 2, 'call': 2, 'mother': 2, 'list': 2, 'receive': 2, 'user': 2, 'important': 2, 'traveled': 2, 'inspiration': 2, 'coast': 2, 'hoped': 2, 'shipped': 2, 'stated': 2, 'kelly': 2, 'clean': 2, 'showing': 2, 'mostly': 2, 'click': 2, 'catch': 2, 'regular': 2, 'major': 2, 'serious': 2, 'tomorrow': 2, 'tool': 2, 'waterproof': 2, 'blue': 2, 'relationship': 2, 'farm': 2, 'cross': 2, 'impress': 2, 'adventure': 2, 'ending': 2, 'obvious': 2, 'imagination': 2, 'choose': 2, 'prince': 2, 'copy': 2, 'block': 2, 'matter': 2, 'usually': 2, 'sole': 2, 'rather': 2, 'stop': 2, 'rolling': 2, 'abuse': 2, 'childhood': 2, 'experience': 2, 'possible': 2, 'higher': 2, 'trigger': 2, 'superb': 2, 'addicted': 2, 'myself': 2, 'agree': 2, 'cushion': 2, 'material': 2, 'group': 2, 'compilation': 2, 'garbage': 2, 'battery': 2, 'bottom': 2, 'theme': 2, 'accept': 2, 'lonely': 2, 'planet': 2, 'military': 2, 'hip': 2, 'grade': 2, 'beach': 2, 'chose': 2, 'starlite': 2, 'shipping': 2, 'volume': 2, 'hour': 2, 'skip': 2, 'essay': 2, 'female': 2, 'imagine': 2, 'send': 2, 'line': 2, 'provide': 2, 'example': 2, 'weak': 2, 'horrible': 2, 'spelling': 2, 'yourself': 2, 'terrible': 2, 'chart': 2, 'cry': 2, 'result': 2, 'leave': 2, 'spot': 2, 'fault': 2, 'lisa': 2, 'bread': 2, 'pas': 2, 'horizontal': 2, 'middle': 2, 'boiling': 2, 'plastic': 2, 'cardboard': 2, 'itself': 2, 'cheesy': 2, 'unsubstantiated': 2, 'acting': 2, 'brand': 2, 'fusion': 2, 'session': 2, 'function': 2, 'annoying': 2, 'drew': 2, 'mat': 2, 'forgotten': 2, 'disappointment': 2, 'ridiculous': 2, 'mountain': 2, 'lion': 2, 'stupid': 2, 'feedback': 2, 'rate': 2, 'future': 2, 'spend': 2, 'compatible': 2, 'machine': 2, 'deeply': 2, 'stage': 2, 'revolution': 2, 'equivalent': 2, 'unheard': 2, 'situation': 2, 'lucky': 2, 'wave': 2, 'molly': 2, 'regularly': 2, 'sounding': 2, 'existent': 2, 'disc': 2, 'dubbing': 2, 'uncomfortable': 2, 'island': 2, 'killer': 2, 'essentially': 2, 'thin': 2, 'barber': 2, 'charger': 2, 'charging': 2, 'charge': 2, 'went': 2, 'skate': 2, 'close': 2, 'weekend': 2, 'history': 2, 'drying': 2, 'basic': 2, 'reveal': 2, 'outrun': 2, 'flip': 2, 'crayon': 2, 'ariel': 2, 'classical': 2, 'nose': 1, 'replace': 1, 'clone': 1, 'glossy': 1, 'inform': 1, 'venture': 1, 'project': 1, 'electronics': 1, 'express': 1, 'picked': 1, 'clarity': 1, 'complaint': 1, 'mode': 1, 'stereo': 1, 'antenna': 1, 'listed': 1, 'workout': 1, 'roll': 1, 'deep': 1, 'ridge': 1, 'comeback': 1, 'latest': 1, 'beer': 1, 'devil': 1, 'storage': 1, 'penny': 1, 'mommy': 1, 'together': 1, 'alone': 1, 'somebody': 1, 'thats': 1, 'boloney': 1, 'sake': 1, 'brilliant': 1, 'realistic': 1, 'error': 1, 'writer': 1, 'loving': 1, 'revengeful': 1, 'twisted': 1, 'glass': 1, 'panel': 1, 'weight': 1, 'attractive': 1, 'playback': 1, 'placement': 1, 'illogical': 1, 'carefully': 1, 'designed': 1, 'outstanding': 1, 'guidebook': 1, 'hybrid': 1, 'construction': 1, 'invaluable': 1, 'process': 1, 'considering': 1, 'guessing': 1, 'heat': 1, 'throu': 1, 'prepare': 1, 'float': 1, 'endless': 1, 'colorful': 1, 'winner': 1, 'bookshelf': 1, 'coax': 1, 'difference': 1, 'warm': 1, 'comfy': 1, 'lounging': 1, 'overview': 1, 'sort': 1, 'printing': 1, 'touch': 1, 'assuming': 1, 'masterpiece': 1, 'aware': 1, 'greatly': 1, 'impressively': 1, 'remarkable': 1, 'assure': 1, 'listener': 1, 'energetic': 1, 'dancing': 1, 'termina': 1, 'dragon': 1, 'composed': 1, 'fantastic': 1, 'surely': 1, 'apart': 1, 'society': 1, 'point': 1, 'poised': 1, 'restraint': 1, 'obedience': 1, 'adulation': 1, 'western': 1, 'form': 1, 'international': 1, 'blend': 1, 'private': 1, 'steven': 1, 'talented': 1, 'adopted': 1, 'schooling': 1, 'thus': 1, 'forty': 1, 'significance': 1, 'terminal': 1, 'fronted': 1, 'eric': 1, 'goner': 1, 'tender': 1, 'rocking': 1, 'overdriven': 1, 'crackling': 1, 'underlaying': 1, 'crooning': 1, 'howl': 1, 'weve': 1, 'slip': 1, 'heel': 1, 'manner': 1, 'seeing': 1, 'letter': 1, 'queen': 1, 'watermelon': 1, 'rattle': 1, 'plain': 1, 'decision': 1, 'overnight': 1, 'rocket': 1, 'scientist': 1, 'libro': 1, 'contiene': 1, 'interesaba': 1, 'saber': 1, 'cautivo': 1, 'lei': 1, 'ahora': 1, 'puedo': 1, 'discutir': 1, 'esposo': 1, 'boxeador': 1, 'wicked': 1, 'follow': 1, 'starcraft': 1, 'warcraft': 1, 'redundant': 1, 'combat': 1, 'pleasure': 1, 'master': 1, 'carpenter': 1, 'recent': 1, 'avid': 1, 'reader': 1, 'gymnastic': 1, 'feat': 1, 'russia': 1, 'melody': 1, 'happily': 1, 'nifty': 1, 'dummy': 1, 'nevertheless': 1, 'search': 1, 'actual': 1, 'naturalist': 1, 'animal': 1, 'communicator': 1, 'mary': 1, 'study': 1, 'studied': 1, 'contention': 1, 'direct': 1, 'telepathic': 1, 'themselves': 1, 'romantic': 1, 'comedy': 1, 'searching': 1, 'coastal': 1, 'resort': 1, 'gig': 1, 'motorcycle': 1, 'maintenance': 1, 'hysterical': 1, 'handed': 1, 'pitcher': 1, 'owner': 1, 'honest': 1, 'comical': 1, 'emotional': 1, 'sizzling': 1, 'roster': 1, 'authentic': 1, 'encounter': 1, 'helping': 1, 'certain': 1, 'spoke': 1, 'anybody': 1, 'ask': 1, 'clue': 1, 'unanswered': 1, 'note': 1, 'seven': 1, 'skill': 1, 'frustration': 1, 'experienced': 1, 'crowd': 1, 'defunct': 1, 'chock': 1, 'cheeky': 1, 'garner': 1, 'leap': 1, 'grab': 1, 'upcoming': 1, 'informative': 1, 'medicine': 1, 'advise': 1, 'ruth': 1, 'stand': 1, 'mixer': 1, 'civilized': 1, 'pot': 1, 'section': 1, 'ration': 1, 'yellow': 1, 'ordinary': 1, 'printed': 1, 'moment': 1, 'obsession': 1, 'guise': 1, 'incurable': 1, 'infection': 1, 'threw': 1, 'trauma': 1, 'replacement': 1, 'safely': 1, 'closet': 1, 'shelf': 1, 'thread': 1, 'bare': 1, 'phone': 1, 'thanks': 1, 'divine': 1, 'fragrance': 1, 'delicate': 1, 'summer': 1, 'moral': 1, 'aspect': 1, 'lucid': 1, 'explanation': 1, 'become': 1, 'individual': 1, 'personal': 1, 'public': 1, 'indictment': 1, 'disgusted': 1, 'boorish': 1, 'politics': 1, 'discourse': 1, 'substantial': 1, 'lie': 1, 'hooked': 1, 'hungry': 1, 'youd': 1, 'crunch': 1, 'splendid': 1, 'tasting': 1, 'trill': 1, 'screwed': 1, 'fallen': 1, 'screw': 1, 'rap': 1, 'kickback': 1, 'blow': 1, 'ride': 1, 'whats': 1, 'pimp': 1, 'regardless': 1, 'pokey': 1, 'legacy': 1, 'displayed': 1, 'effort': 1, 'dialogue': 1, 'blonde': 1, 'yard': 1, 'knee': 1, 'root': 1, 'tech': 1, 'emotion': 1, 'waving': 1, 'highlight': 1, 'simply': 1, 'creepy': 1, 'jealousy': 1, 'prepared': 1, 'delicious': 1, 'warning': 1, 'saturated': 1, 'cabinet': 1, 'outrageous': 1, 'contemporary': 1, 'delight': 1, 'snow': 1, 'grown': 1, 'act': 1, 'rewarding': 1, 'forward': 1, 'distraught': 1, 'stopped': 1, 'carrying': 1, 'elated': 1, 'pack': 1, 'bowl': 1, 'unknown': 1, 'mixture': 1, 'working': 1, 'lazy': 1, 'sang': 1, 'captain': 1, 'engaging': 1, 'washed': 1, 'stay': 1, 'uncover': 1, 'attract': 1, 'trashy': 1, 'baby': 1, 'enjoying': 1, 'worried': 1, 'vibrant': 1, 'friendly': 1, 'everybody': 1, 'illustration': 1, 'overall': 1, 'interesting': 1, 'eyewitness': 1, 'textbook': 1, 'condition': 1, 'transaction': 1, 'diehard': 1, 'plunge': 1, 'subscription': 1, 'coverage': 1, 'college': 1, 'club': 1, 'hit': 1, 'strike': 1, 'clap': 1, 'dress': 1, 'train': 1, 'pony': 1, 'jump': 1, 'shell': 1, 'accomplished': 1, 'wonderfully': 1, 'inset': 1, 'tough': 1, 'polar': 1, 'bear': 1, 'catching': 1, 'tricky': 1, 'finger': 1, 'pad': 1, 'easier': 1, 'refer': 1, 'walt': 1, 'contradict': 1, 'peter': 1, 'stark': 1, 'detailed': 1, 'extensive': 1, 'resource': 1, 'prospect': 1, 'subscriber': 1, 'till': 1, 'massive': 1, 'living': 1, 'shake': 1, 'imaginative': 1, 'playtime': 1, 'blunt': 1, 'wood': 1, 'safety': 1, 'corresponding': 1, 'object': 1, 'lived': 1, 'photo': 1, 'winning': 1, 'parent': 1, 'starter': 1, 'puzzle': 1, 'range': 1, 'hate': 1, 'crude': 1, 'step': 1, 'grate': 1, 'soulful': 1, 'plan': 1, 'classed': 1, 'art': 1, 'shocking': 1, 'miss': 1, 'grandchild': 1, 'goodness': 1, 'shopping': 1, 'fight': 1, 'crown': 1, 'stone': 1, 'bring': 1, 'adult': 1, 'til': 1, 'investment': 1, 'durable': 1, 'shape': 1, 'hurt': 1, 'category': 1, 'younger': 1, 'fully': 1, 'comprehend': 1, 'dig': 1, 'cause': 1, 'peek': 1, 'obviously': 1, 'jiggle': 1, 'noise': 1, 'incorporate': 1, 'easily': 1, 'identify': 1, 'banana': 1, 'penguin': 1, 'umbrella': 1, 'pry': 1, 'purpose': 1, 'smashing': 1, 'dropping': 1, 'stepped': 1, 'tolerate': 1, 'treatment': 1, 'shop': 1, 'smelling': 1, 'saying': 1, 'depending': 1, 'grocery': 1, 'fashionable': 1, 'doctor': 1, 'wore': 1, 'ugly': 1, 'ted': 1, 'hose': 1, 'yucky': 1, 'thick': 1, 'brown': 1, 'blood': 1, 'clot': 1, 'adhesive': 1, 'inexpensive': 1, 'garter': 1, 'belt': 1, 'dirty': 1, 'south': 1, 'guest': 1, 'pat': 1, 'botany': 1, 'ward': 1, 'hawk': 1, 'speak': 1, 'talk': 1, 'abusive': 1, 'forgive': 1, 'successful': 1, 'spite': 1, 'horrendous': 1, 'intense': 1, 'sadness': 1, 'fate': 1, 'distant': 1, 'promise': 1, 'stole': 1, 'personally': 1, 'throughout': 1, 'energy': 1, 'indefinably': 1, 'manipulate': 1, 'adorable': 1, 'twirl': 1, 'upgrade': 1, 'creativity': 1, 'opening': 1, 'singing': 1, 'gem': 1, 'maze': 1, 'curly': 1, 'frizzy': 1, 'rid': 1, 'friz': 1, 'damp': 1, 'weather': 1, 'artistry': 1, 'appreciate': 1, 'tied': 1, 'wearing': 1, 'kilt': 1, 'enchanting': 1, 'highlander': 1, 'heroine': 1, 'glad': 1, 'present': 1, 'join': 1, 'setup': 1, 'selection': 1, 'intuitive': 1, 'complicated': 1, 'rely': 1, 'heavily': 1, 'setting': 1, 'timer': 1, 'enter': 1, 'scroll': 1, 'impression': 1, 'pair': 1, 'insert': 1, 'attach': 1, 'strap': 1, 'luckily': 1, 'policy': 1, 'nowhere': 1, 'deceiving': 1, 'trash': 1, 'purist': 1, 'wedding': 1, 'reception': 1, 'technical': 1, 'beam': 1, 'handful': 1, 'memorable': 1, 'sealed': 1, 'door': 1, 'battle': 1, 'beforehand': 1, 'blame': 1, 'self': 1, 'sorry': 1, 'travesty': 1, 'mercy': 1, 'ended': 1, 'city': 1, 'scratch': 1, 'surface': 1, 'false': 1, 'thickness': 1, 'disrespectful': 1, 'courtesy': 1, 'dealing': 1, 'entertaining': 1, 'figured': 1, 'dismay': 1, 'fourth': 1, 'main': 1, 'replicate': 1, 'neighborhood': 1, 'growing': 1, 'surfer': 1, 'san': 1, 'honestly': 1, 'surf': 1, 'poorly': 1, 'covered': 1, 'scraped': 1, 'noticeable': 1, 'gigantic': 1, 'loosely': 1, 'thinking': 1, 'scraping': 1, 'trouble': 1, 'risk': 1, 'disappointing': 1, 'text': 1, 'markedly': 1, 'inferior': 1, 'previous': 1, 'known': 1, 'ahead': 1, 'tiny': 1, 'foam': 1, 'sunk': 1, 'season': 1, 'skippy': 1, 'dud': 1, 'typographical': 1, 'pathetic': 1, 'embarrassed': 1, 'dear': 1, 'ostensibly': 1, 'feminism': 1, 'veil': 1, 'potentially': 1, 'explain': 1, 'cape': 1, 'town': 1, 'separate': 1, 'equal': 1, 'gee': 1, 'whiz': 1, 'feminist': 1, 'condemnation': 1, 'gender': 1, 'apartheid': 1, 'genital': 1, 'evening': 1, 'hysteric': 1, 'contest': 1, 'offer': 1, 'term': 1, 'paper': 1, 'kill': 1, 'anyway': 1, 'disk': 1, 'sleeping': 1, 'leverage': 1, 'otherwise': 1, 'position': 1, 'width': 1, 'rotate': 1, 'lay': 1, 'belief': 1, 'write': 1, 'wasting': 1, 'grader': 1, 'grammatical': 1, 'misspelling': 1, 'per': 1, 'chapter': 1, 'lean': 1, 'distracted': 1, 'pencil': 1, 'mark': 1, 'faith': 1, 'rental': 1, 'exciting': 1, 'sister': 1, 'finished': 1, 'portable': 1, 'drive': 1, 'constantly': 1, 'unsuccessfully': 1, 'junk': 1, 'sobbing': 1, 'bedroom': 1, 'rotten': 1, 'painting': 1, 'coloring': 1, 'halfway': 1, 'program': 1, 'hung': 1, 'exit': 1, 'frozen': 1, 'explore': 1, 'disabled': 1, 'weeping': 1, 'incompetent': 1, 'bug': 1, 'caught': 1, 'cannot': 1, 'former': 1, 'repeatedly': 1, 'flour': 1, 'miscellaneous': 1, 'nearly': 1, 'flawlessly': 1, 'artisan': 1, 'novice': 1, 'baker': 1, 'reliably': 1, 'recipe': 1, 'reliable': 1, 'concise': 1, 'fabulous': 1, 'tome': 1, 'warrant': 1, 'rattled': 1, 'loudly': 1, 'layout': 1, 'engineering': 1, 'brought': 1, 'model': 1, 'hesitant': 1, 'numbing': 1, 'rescue': 1, 'doing': 1, 'internet': 1, 'dip': 1, 'temperature': 1, 'describe': 1, 'image': 1, 'shrink': 1, 'egg': 1, 'transfer': 1, 'intelligent': 1, 'immediately': 1, 'explicit': 1, 'formulation': 1, 'smell': 1, 'pic': 1, 'sticky': 1, 'potion': 1, 'comment': 1, 'beat': 1, 'finish': 1, 'solid': 1, 'brass': 1, 'distance': 1, 'discrimination': 1, 'smear': 1, 'campaign': 1, 'claw': 1, 'preservation': 1, 'academic': 1, 'freedom': 1, 'broadway': 1, 'archive': 1, 'ruined': 1, 'intentionally': 1, 'absurd': 1, 'blanket': 1, 'incidental': 1, 'worse': 1, 'renaissance': 1, 'century': 1, 'director': 1, 'goal': 1, 'fusty': 1, 'scandal': 1, 'intention': 1, 'recording': 1, 'extended': 1, 'drinking': 1, 'blurry': 1, 'secret': 1, 'joe': 1, 'listening': 1, 'fool': 1, 'glaringly': 1, 'glowing': 1, 'sentence': 1, 'structure': 1, 'featured': 1, 'professional': 1, 'unprofessional': 1, 'bootleg': 1, 'capable': 1, 'flash': 1, 'universal': 1, 'factory': 1, 'capability': 1, 'punk': 1, 'draw': 1, 'casually': 1, 'law': 1, 'seriously': 1, 'fit': 1, 'specific': 1, 'vehicle': 1, 'duplicate': 1, 'angle': 1, 'shed': 1, 'tourist': 1, 'tour': 1, 'exclude': 1, 'precision': 1, 'detail': 1, 'keyboard': 1, 'disservice': 1, 'improperly': 1, 'traditional': 1, 'framing': 1, 'further': 1, 'print': 1, 'titled': 1, 'debacle': 1, 'wonder': 1, 'script': 1, 'trailer': 1, 'jail': 1, 'cell': 1, 'utterly': 1, 'vendor': 1, 'month': 1, 'careful': 1, 'pedantic': 1, 'prior': 1, 'sung': 1, 'bright': 1, 'prompt': 1, 'corrie': 1, 'organization': 1, 'nonviolence': 1, 'propaganda': 1, 'hide': 1, 'willing': 1, 'violence': 1, 'sabotage': 1, 'wall': 1, 'intended': 1, 'innocent': 1, 'murdering': 1, 'disregard': 1, 'extreme': 1, 'sing': 1, 'hearing': 1, 'cheap': 1, 'copper': 1, 'pipe': 1, 'sell': 1, 'gymnastics': 1, 'simplistic': 1, 'strive': 1, 'onto': 1, 'enjoyment': 1, 'menu': 1, 'package': 1, 'exist': 1, 'sub': 1, 'par': 1, 'remain': 1, 'sham': 1, 'offering': 1, 'shock': 1, 'pant': 1, 'incredibly': 1, 'content': 1, 'occupant': 1, 'ashore': 1, 'solitude': 1, 'shaken': 1, 'fear': 1, 'strange': 1, 'men': 1, 'reluctantly': 1, 'friendship': 1, 'courage': 1, 'amusing': 1, 'believability': 1, 'characterization': 1, 'sided': 1, 'behavior': 1, 'development': 1, 'tracked': 1, 'forced': 1, 'improve': 1, 'towards': 1, 'heart': 1, 'watched': 1, 'supernatural': 1, 'gory': 1, 'challenge': 1, 'narrative': 1, 'famous': 1, 'biographer': 1, 'arrogant': 1, 'flippant': 1, 'frequently': 1, 'exaggerated': 1, 'tone': 1, 'amateur': 1, 'historian': 1, 'passing': 1, 'judgment': 1, 'statesman': 1, 'boston': 1, 'graduate': 1, 'considered': 1, 'penetrating': 1, 'today': 1, 'conclude': 1, 'manuscript': 1, 'primary': 1, 'secondary': 1, 'werent': 1, 'freezing': 1, 'issue': 1, 'trial': 1, 'extra': 1, 'lose': 1, 'somehow': 1, 'double': 1, 'amount': 1, 'knock': 1, 'caveat': 1, 'emptor': 1, 'green': 1, 'red': 1, 'counterfeit': 1, 'serial': 1, 'convenient': 1, 'kodak': 1, 'gardening': 1, 'lawn': 1, 'fortunately': 1, 'hesitate': 1, 'laugh': 1, 'funny': 1, 'unintentionally': 1, 'free': 1, 'sex': 1, 'coda': 1, 'stuff': 1, 'june': 1, 'given': 1, 'date': 1, 'claim': 1, 'mishap': 1, 'loading': 1, 'watching': 1, 'interactive': 1, 'consider': 1, 'joke': 1, 'sending': 1, 'post': 1, 'respect': 1, 'ambient': 1, 'whatsoever': 1, 'darn': 1, 'guitarist': 1, 'showcase': 1, 'utopia': 1, 'backing': 1, 'direction': 1, 'taken': 1, 'unmasked': 1, 'shamelessly': 1, 'everyone': 1, 'turning': 1, 'stale': 1, 'elevated': 1, 'mill': 1, 'maniac': 1, 'unimaginative': 1, 'exactly': 1, 'cue': 1, 'safe': 1, 'brief': 1, 'appearance': 1, 'icon': 1, 'dullness': 1, 'misnomer': 1, 'pay': 1, 'smelled': 1, 'ludicrous': 1, 'faintly': 1, 'entertain': 1, 'courtroom': 1, 'crime': 1, 'crucial': 1, 'unbelievable': 1, 'detective': 1, 'appear': 1, 'unfolded': 1, 'camera': 1, 'closed': 1, 'useless': 1, 'twin': 1, 'teething': 1, 'fisher': 1, 'biggest': 1, 'sink': 1, 'follower': 1, 'race': 1, 'racing': 1, 'battlefield': 1, 'landscape': 1, 'idiotic': 1, 'rubbish': 1, 'mine': 1, 'costly': 1, 'huge': 1, 'positive': 1, 'mechanism': 1, 'loose': 1, 'pressure': 1, 'push': 1, 'duct': 1, 'segment': 1, 'apply': 1, 'wrap': 1, 'painful': 1, 'aint': 1, 'broke': 1, 'fix': 1, 'slightly': 1, 'taller': 1, 'perfume': 1, 'recipient': 1, 'vaguely': 1, 'mortise': 1, 'tenon': 1, 'practical': 1, 'builder': 1, 'impossible': 1, 'native': 1, 'vocabulary': 1, 'mermaid': 1, 'pearl': 1, 'kit': 1, 'bateman': 1, 'lead': 1, 'relief': 1, 'minimum': 1, 'suggest': 1, 'skipping': 1, 'familiarity': 1, 'cinematic': 1, 'path': 1, 'typically': 1, 'predictable': 1, 'fashion': 1, 'unstoppable': 1, 'skinned': 1, 'achieve': 1, 'beauty': 1, 'motivation': 1, 'attempt': 1, 'elicit': 1, 'entry': 1, 'familiar': 1, 'territory': 1, 'tread': 1, 'cast': 1, 'competence': 1, 'terry': 1, 'effective': 1, 'buffoon': 1, 'treat': 1, 'cameo': 1, 'vet': 1, 'unusually': 1, 'restrained': 1, 'lee': 1, 'leading': 1, 'survivor': 1, 'resilient': 1, 'resourceful': 1, 'fiance': 1, 'sic': 1, 'equally': 1, 'finale': 1, 'caution': 1, 'irrelevant': 1})\n"
          ],
          "name": "stdout"
        }
      ]
    },
    {
      "cell_type": "code",
      "metadata": {
        "id": "BgUnFpTkWCRX"
      },
      "source": [
        "final_data = []\n",
        "\n",
        "# loop through our selected words\n",
        "for word in words:\n",
        "    \n",
        "    # initialize positive and negative counts\n",
        "    pos = 0\n",
        "    neg = 0\n",
        "    \n",
        "    # retrieve number of positive counts\n",
        "    if (word, 1) in freqs:\n",
        "        pos = freqs[(word, 1)]\n",
        "        \n",
        "    # retrieve number of negative counts\n",
        "    if (word, 0) in freqs:\n",
        "        neg = freqs[(word, 0)]\n",
        "        \n",
        "    # append the word counts to the table\n",
        "    final_data.append([word, pos, neg])\n",
        "    \n",
        "print(final_data)\n",
        "\n"
      ],
      "execution_count": null,
      "outputs": []
    },
    {
      "cell_type": "code",
      "metadata": {
        "id": "Xj_yjvNFWHJb"
      },
      "source": [
        "fig, ax = plt.subplots(figsize = (8, 8))\n",
        "\n",
        "# convert positive raw counts to logarithmic scale. we add 1 to avoid log(0)\n",
        "x = np.log([x[1] + 1  for x in final_data])  \n",
        "\n",
        "# do the same for the negative counts\n",
        "y = np.log([x[2] + 1 for x in final_data]) \n",
        "\n",
        "# Plot a dot for each pair of words\n",
        "ax.scatter(x, y)  \n",
        "\n",
        "# assign axis labels\n",
        "plt.xlabel(\"Log Positive count\")\n",
        "plt.ylabel(\"Log Negative count\")\n",
        "\n",
        "# Add the word as the label at the same position as you added the points just before\n",
        "for i in range(0, len(final_data)):\n",
        "    ax.annotate(final_data[i][0], (x[i], y[i]), fontsize=12)\n",
        "\n"
      ],
      "execution_count": null,
      "outputs": []
    },
    {
      "cell_type": "code",
      "metadata": {
        "id": "mW-3MNdQYr6R"
      },
      "source": [
        "fig, ax = plt.subplots(figsize = (8, 8))\n",
        "\n",
        "# convert positive raw counts to logarithmic scale. we add 1 to avoid log(0)\n",
        "x = np.log([x[1] + 1  for x in final_data])  \n",
        "\n",
        "# do the same for the negative counts\n",
        "y = np.log([x[2] + 1 for x in final_data]) \n",
        "\n",
        "# Plot a dot for each pair of words\n",
        "ax.scatter(x, y)  \n",
        "\n",
        "# assign axis labels\n",
        "plt.xlabel(\"Log Positive count\")\n",
        "plt.ylabel(\"Log Negative count\")\n",
        "\n",
        "# Add the word as the label at the same position as you added the points just before\n",
        "for i in range(0, len(final_data)):\n",
        "    ax.annotate(final_data[i][0], (x[i], y[i]), fontsize=12)\n",
        "\n",
        "ax.plot([0, 9], [0, 9], color = 'red') # Plot the red line that divides the 2 areas.\n",
        "plt.show()\n",
        "plt.close()"
      ],
      "execution_count": null,
      "outputs": []
    },
    {
      "cell_type": "code",
      "metadata": {
        "id": "oQ7mPRvRYx15"
      },
      "source": [
        "ig = plt.figure(figsize=(5, 5))\n",
        "\n",
        "# labels for the two classes\n",
        "labels = 'Positives', 'Negative'\n",
        "\n",
        "# Sizes for each slide\n",
        "sizes = [len(positive_reviews), len(negative_reviews)] \n",
        "\n",
        "# Declare pie chart, where the slices will be ordered and plotted counter-clockwise:\n",
        "plt.pie(sizes, labels=labels, autopct='%1.1f%%',\n",
        "        shadow=True, startangle=90)\n",
        "\n",
        "# Equal aspect ratio ensures that pie is drawn as a circle.\n",
        "plt.axis('equal')  \n",
        "\n",
        "# Display the chart\n",
        "plt.show()"
      ],
      "execution_count": null,
      "outputs": []
    },
    {
      "cell_type": "code",
      "metadata": {
        "id": "NedyoQB_Y7rT"
      },
      "source": [
        ""
      ],
      "execution_count": null,
      "outputs": []
    },
    {
      "cell_type": "code",
      "metadata": {
        "id": "q5bu405JY_Z4"
      },
      "source": [
        "plot_1 = sns.countplot(final_labels)\n",
        "plt.title('Train Labels distribution')\n",
        "plt.show(plot_1)\n",
        "plt.close()\n",
        "plt.clf()"
      ],
      "execution_count": null,
      "outputs": []
    },
    {
      "cell_type": "code",
      "metadata": {
        "id": "7TUPJftCZDyC"
      },
      "source": [
        "plot_2 = sns.countplot(final_labels_test)\n",
        "plt.title('Test Labels distribution')\n",
        "plt.show(plot_2)\n",
        "plt.close()\n",
        "plt.clf()"
      ],
      "execution_count": null,
      "outputs": []
    },
    {
      "cell_type": "code",
      "metadata": {
        "id": "i_OjKJIRZIG6"
      },
      "source": [
        "final_reviews_size =  len(final_reviews)\n",
        "plot_3 = sns.displot(final_reviews)\n",
        "plt.xlabel(\"#words in reviews\")\n",
        "plt.ylabel(\"Frequency\")\n",
        "plt.title(\"Word Frequency Distribution in Reviews\")\n",
        "plt.show(plot_3)\n",
        "plt.close()\n",
        "plt.clf()"
      ],
      "execution_count": null,
      "outputs": []
    },
    {
      "cell_type": "code",
      "metadata": {
        "id": "rCRm1a4KZlHY"
      },
      "source": [
        "final_reviews_size =  len(test_file_lines)\n",
        "train_sentences_size =  len( final_reviews)\n",
        "train_label_len = pd.DataFrame({\"labels\": final_labels, \"len\": train_sentences_size})\n",
        "print(train_label_len.head())\n",
        "\n",
        "\n",
        "neg_mean_len = train_label_len.groupby('labels')['len'].mean().values[0]\n",
        "pos_mean_len = train_label_len.groupby('labels')['len'].mean().values[1]\n",
        "\n",
        "print(f\"Negative mean length: {neg_mean_len:.2f}\")\n",
        "print(f\"Positive mean length: {pos_mean_len:.2f}\")\n",
        "print(f\"Mean Difference: {neg_mean_len-pos_mean_len:.2f}\")\n",
        "sns.catplot(x='labels', y='len', data=train_label_len, kind='box')\n",
        "plt.xlabel(\"labels (0->negative, 1->positive)\")\n",
        "plt.ylabel(\"#words in reviews\")\n",
        "plt.title(\"Review Size Categorization\")\n"
      ],
      "execution_count": null,
      "outputs": []
    },
    {
      "cell_type": "code",
      "metadata": {
        "id": "Gi0jKoHsaAah"
      },
      "source": [
        "from keras.models import Sequential\n",
        "from keras.layers import Dense, Dropout, Activation,LSTM\n",
        "\n",
        "model1=  Sequential()\n",
        "model1.add(LSTM(100,input_shape=(25,50),activation='relu'))\n",
        "model1.add(Dense(50,activation='relu'))\n",
        "model1.add(Dense(1,activation='sigmoid'))\n",
        "\n",
        "model1.compile(optimizer='adam',\n",
        "              loss='binary_crossentropy',\n",
        "              metrics=['accuracy'])\n",
        "hist = model1.fit(final_reviews,final_labels,validation_split=0.1,epochs=6,batch_size=64,verbose=1)\n",
        "\n",
        "\n",
        "model1.evaluate(final_reviews_test, final_labels_test, batch_size=128)\n",
        "\n",
        "#model1.evaluate(final_reviews, final_labels, batch_size=128)\n",
        "\n",
        "import matplotlib.pyplot as plt\n",
        "loss_curve = hist.history['loss']\n",
        "epoch_c = list(range(len(loss_curve)))\n",
        "\n",
        "plt.xlabel('Epochs')\n",
        "plt.ylabel('Loss value')\n",
        "plt.plot(epoch_c,loss_curve,label='1 Hidden layer')\n",
        "plt.show()\n",
        "\n",
        "acc_curve = hist.history['acc']\n",
        "epoch_c = list(range(len(loss_curve)))\n",
        "\n",
        "plt.xlabel('Epochs')\n",
        "plt.ylabel('Accuracy value')\n",
        "plt.plot(epoch_c,acc_curve,label='1 Hidden layer')\n",
        "plt.show()\n"
      ],
      "execution_count": null,
      "outputs": []
    }
  ]
}